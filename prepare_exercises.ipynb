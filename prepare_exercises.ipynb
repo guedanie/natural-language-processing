{
 "cells": [
  {
   "cell_type": "markdown",
   "metadata": {},
   "source": [
    "# Prepare Exercises\n",
    "\n",
    "The end result of this exercise should be a file named `prepare.py` that defines the requested functions.\n",
    "\n",
    "In this exercise we will be defining some functions to prepare textual data. These functions should apply equally well to both the codeup blog articles and the news articles that were previously acquired."
   ]
  },
  {
   "cell_type": "code",
   "execution_count": 1,
   "metadata": {},
   "outputs": [],
   "source": [
    "import unicodedata\n",
    "import re\n",
    "import json\n",
    "\n",
    "import nltk\n",
    "# nltk.download('wordnet')\n",
    "from nltk.tokenize.toktok import ToktokTokenizer\n",
    "from nltk.corpus import stopwords\n",
    "\n",
    "import pandas as pd\n",
    "from requests import get\n",
    "\n",
    "import acquire\n",
    "from bs4 import BeautifulSoup\n",
    "import re"
   ]
  },
  {
   "cell_type": "code",
   "execution_count": 2,
   "metadata": {},
   "outputs": [],
   "source": [
    "df = acquire.get_all_blog_articles()"
   ]
  },
  {
   "cell_type": "code",
   "execution_count": 3,
   "metadata": {},
   "outputs": [],
   "source": [
    "test = df[0]"
   ]
  },
  {
   "cell_type": "markdown",
   "metadata": {},
   "source": [
    "## 1. Define a function named `basic_clean`. It should take in a string and apply some basic text cleaning to it:\n",
    "\n",
    "* Lowercase everything\n",
    "* Normalize unicode characters\n",
    "* Replace anything that is not a letter, number, whitespace or a single quote."
   ]
  },
  {
   "cell_type": "code",
   "execution_count": 4,
   "metadata": {},
   "outputs": [],
   "source": [
    "article = test[\"content\"].lower()"
   ]
  },
  {
   "cell_type": "code",
   "execution_count": 5,
   "metadata": {},
   "outputs": [
    {
     "name": "stdout",
     "output_type": "stream",
     "text": [
      "codeup welcomed our newest cohort, the wrangell cohort, on july 23. with the start of this cohort, we are launching a new blog series: the codeup student check in. well interview a student over the course of the 4.5 months to see how things are progressing from first impressions all the way to graduation. thus, welcome to the codeup student check in: month 2!we took the time to sit down with our wrangell student to see how theyve been doing so far!codeup: describe what youre learning right now. is it hard/fun/challenging? wrangell student: in this section of the curriculum we are learning about the basics of java and the building blocks that make up the language. this language is more verbose than previous material, and one of the hardest parts is understanding the instructions and translating them to code. c: how has the learning process/information gathering been?s: a wide variety of resources are available. in addition to the curriculum, i utilize the head first java book and the oracle documentation. another challenge is combining the knowledge from all these resources into one.c: how do you feel your skill level compares to last month? s: comparing my skill level now with that of last month is no contest. everyone around me is improving as well and i am excited to see my classmates skill levels growing. our skills are improving exponentially!c: how have the instructors and staff been helpful?s: the instructors hold study hall before class and after to give us extra help. theyre constantly posting resources in our slack channel and encouraging us to ask questions. they have no problem going back to review material or clarify any questions we have. at the same time, they encourage our learning. they dont give us the answer if its obvious or an easily searchable question.c: share a fun experience you had at codeup!our great staff gave us some very cool thermoses. im a diehard sticker fan. i immediately ordered coding and anime related stickers for this thermos and theyre going straight on the thermos the moment they come in!c: what has been the most memorable part of this month and has anything exciting happened?s: codeup expanded onto the 6th floor of the vogue building, so were coding in a totally different environment. its full of natural light, which makes me very happy. i personally love heights so its great to look out the windows while taking a break from coding.something exciting that happened was that i got my first star! instructors give us stars for asking good questions. im the type of person who needs to google the answer first before asking something. i wouldnt want to ask something that is easily available on the internet. however, java is very challenging, and i just needed to ask questions and i got a star! super exciting! \n"
     ]
    }
   ],
   "source": [
    "article = unicodedata.normalize('NFKD', article)\\\n",
    "    .encode('ascii', 'ignore')\\\n",
    "    .decode('utf-8', 'ignore')\n",
    "\n",
    "print(article)"
   ]
  },
  {
   "cell_type": "code",
   "execution_count": 6,
   "metadata": {
    "scrolled": false
   },
   "outputs": [
    {
     "name": "stdout",
     "output_type": "stream",
     "text": [
      "codeup welcomed our newest cohort the wrangell cohort on july 23 with the start of this cohort we are launching a new blog series the codeup student check in well interview a student over the course of the 45 months to see how things are progressing from first impressions all the way to graduation thus welcome to the codeup student check in month 2we took the time to sit down with our wrangell student to see how theyve been doing so farcodeup describe what youre learning right now is it hardfunchallenging wrangell student in this section of the curriculum we are learning about the basics of java and the building blocks that make up the language this language is more verbose than previous material and one of the hardest parts is understanding the instructions and translating them to code c how has the learning processinformation gathering beens a wide variety of resources are available in addition to the curriculum i utilize the head first java book and the oracle documentation another challenge is combining the knowledge from all these resources into onec how do you feel your skill level compares to last month s comparing my skill level now with that of last month is no contest everyone around me is improving as well and i am excited to see my classmates skill levels growing our skills are improving exponentiallyc how have the instructors and staff been helpfuls the instructors hold study hall before class and after to give us extra help theyre constantly posting resources in our slack channel and encouraging us to ask questions they have no problem going back to review material or clarify any questions we have at the same time they encourage our learning they dont give us the answer if its obvious or an easily searchable questionc share a fun experience you had at codeupour great staff gave us some very cool thermoses im a diehard sticker fan i immediately ordered coding and anime related stickers for this thermos and theyre going straight on the thermos the moment they come inc what has been the most memorable part of this month and has anything exciting happeneds codeup expanded onto the 6th floor of the vogue building so were coding in a totally different environment its full of natural light which makes me very happy i personally love heights so its great to look out the windows while taking a break from codingsomething exciting that happened was that i got my first star instructors give us stars for asking good questions im the type of person who needs to google the answer first before asking something i wouldnt want to ask something that is easily available on the internet however java is very challenging and i just needed to ask questions and i got a star super exciting \n"
     ]
    }
   ],
   "source": [
    "# remove anything that is not a through z, a number, a single quote, or whitespace\n",
    "article = re.sub(r\"[^a-z0-9'\\s]\", '', article)\n",
    "print(article)"
   ]
  },
  {
   "cell_type": "code",
   "execution_count": 7,
   "metadata": {},
   "outputs": [],
   "source": [
    "def basic_clean(text):\n",
    "    article = text.lower()\n",
    "    article = unicodedata.normalize('NFKD', article)\\\n",
    "    .encode('ascii', 'ignore')\\\n",
    "    .decode('utf-8', 'ignore')\n",
    "    article = re.sub(r\"[^a-z0-9'\\s]\", '', article)\n",
    "    return article "
   ]
  },
  {
   "cell_type": "code",
   "execution_count": 8,
   "metadata": {},
   "outputs": [],
   "source": [
    "test = df[1][\"content\"]\n",
    "article = basic_clean(test)"
   ]
  },
  {
   "cell_type": "code",
   "execution_count": 9,
   "metadata": {
    "scrolled": true
   },
   "outputs": [
    {
     "data": {
      "text/plain": [
       "'the rumors are true the time has arrived codeup has officially opened applications to our new data science career accelerator with only 25 seats available this immersive program is one of a kind in san antonio and will help you land a job in glassdoors 1 best job in americadata science is a method of providing actionable intelligence from data the data revolution has hit san antonio resulting in an explosion in data scientist positions across companies like usaa accenture booz allen hamilton and heb weve even seen utsa invest 70 m for a cybersecurity center and school of data science we built a program to specifically meet the growing demands of this industryour program will be 18 weeks long fulltime handson and projectbased our curriculum development and instruction is led by senior data scientist maggie giust who has worked at heb capital group and rackspace along with input from dozens of practitioners and hiring partners students will work with real data sets realistic problems and the entire data science pipeline from collection to deployment they will receive professional development training in resume writing interviewing and continuing education to prepare for a smooth transition to the workforcewe focus on applied data science for immediate impact and roi in a business which is how we can back it all up with a 6 month tuition refund guarantee  just like our existing web dev program were focusing on data science with python sql and ml covered in 14 modules 1 fundamentals 2 applied statistics 3 sql 4 python 5 supervised machine learning  regression 6 supervised machine learning  classification 7 unsupervised machine learning  clustering 8 time series analysis 9 anomaly detection 10 natural language processing 11 distributed machine learning 12 advanced topics deep learning nosql cloud deployment etc 13 storytelling with data and 14 domain expertise developmentapplications are now open for codeups first data science cohort which will start class on february 4 2019 hurry  there are only 25 seats available to further our mission of cultivating inclusive growth scholarships will be available to women minorities lgbtqia individuals veterans first responders and people relocating to san antonioif you want to learn about joining our program or hiring our graduates email datasciencecodeupcom'"
      ]
     },
     "execution_count": 9,
     "metadata": {},
     "output_type": "execute_result"
    }
   ],
   "source": [
    "# Test to make sure it works\n",
    "article"
   ]
  },
  {
   "cell_type": "markdown",
   "metadata": {},
   "source": [
    "## 2. Define a function named tokenize. It should take in a string and tokenize all the words in the string."
   ]
  },
  {
   "cell_type": "code",
   "execution_count": 10,
   "metadata": {
    "scrolled": true
   },
   "outputs": [
    {
     "data": {
      "text/plain": [
       "'the rumors are true the time has arrived codeup has officially opened applications to our new data science career accelerator with only 25 seats available this immersive program is one of a kind in san antonio and will help you land a job in glassdoors 1 best job in americadata science is a method of providing actionable intelligence from data the data revolution has hit san antonio resulting in an explosion in data scientist positions across companies like usaa accenture booz allen hamilton and heb weve even seen utsa invest 70 m for a cybersecurity center and school of data science we built a program to specifically meet the growing demands of this industryour program will be 18 weeks long fulltime handson and projectbased our curriculum development and instruction is led by senior data scientist maggie giust who has worked at heb capital group and rackspace along with input from dozens of practitioners and hiring partners students will work with real data sets realistic problems and the entire data science pipeline from collection to deployment they will receive professional development training in resume writing interviewing and continuing education to prepare for a smooth transition to the workforcewe focus on applied data science for immediate impact and roi in a business which is how we can back it all up with a 6 month tuition refund guarantee just like our existing web dev program were focusing on data science with python sql and ml covered in 14 modules 1 fundamentals 2 applied statistics 3 sql 4 python 5 supervised machine learning regression 6 supervised machine learning classification 7 unsupervised machine learning clustering 8 time series analysis 9 anomaly detection 10 natural language processing 11 distributed machine learning 12 advanced topics deep learning nosql cloud deployment etc 13 storytelling with data and 14 domain expertise developmentapplications are now open for codeups first data science cohort which will start class on february 4 2019 hurry there are only 25 seats available to further our mission of cultivating inclusive growth scholarships will be available to women minorities lgbtqia individuals veterans first responders and people relocating to san antonioif you want to learn about joining our program or hiring our graduates email datasciencecodeupcom'"
      ]
     },
     "execution_count": 10,
     "metadata": {},
     "output_type": "execute_result"
    }
   ],
   "source": [
    "tokenizer = nltk.tokenize.ToktokTokenizer()\n",
    "\n",
    "article = tokenizer.tokenize(article, return_str=True)\n",
    "article"
   ]
  },
  {
   "cell_type": "code",
   "execution_count": 11,
   "metadata": {},
   "outputs": [],
   "source": [
    "def tokenize(basic_clean_text):\n",
    "    tokenizer = nltk.tokenize.ToktokTokenizer()\n",
    "    article = tokenizer.tokenize(basic_clean_text, return_str=True)\n",
    "    return article"
   ]
  },
  {
   "cell_type": "code",
   "execution_count": 12,
   "metadata": {},
   "outputs": [],
   "source": [
    "test = df[3][\"content\"]"
   ]
  },
  {
   "cell_type": "code",
   "execution_count": 13,
   "metadata": {
    "scrolled": true
   },
   "outputs": [
    {
     "data": {
      "text/plain": [
       "'i take pride in my bachelors degree starting my computing career at trinity university has proven to be extremely important all the hours spent on algorithm design data structures logic are all essential in what im doing now however it is not an uncommon idea that what colleges teach can sometimes be at an offset to industry demands i experienced this significant gap between employer expectations and my computing skillset post college and with the ineedajobtogetexperiencetoworkforajobthatrequiresexperience catch that most college graduates experience the first few years of leaving academia i found myself struggling to find employment the first year of leaving my university was a humbling yet soulcrushing experience why is it that ive pursued a degree directly related to such a hungry market for software developers but i am unable to find a job among what seemed like an endless stream of interviews in which i partook i began to notice a trend i lacked full stack development experience with relevant programming languages that are currently in demand turns out having the theoretical knowledge isnt enough for most employers in the market the industry of software development has evolved throughout the years of its existence and with its evolution came new programming languages that better suit the needs of its users and the customers it will eventually serve ultimately logical thinking did not trump most selftaught html css javascript developers that fill the market with highly innovative ideas and projectsas a trinity graduate who still lived in san antonio after graduating i learned more about codeup from peers who contributed to the curriculum and programs growth some of my classmates in my department also attended the program and found great opportunities within the industry upon graduating the program at first i was skeptical of the value codeup could bring to someone like me who already had experience in programming albeit in languages that werent exactly in demand but being unemployed and discouraged for seemingly an eternity i decided to give it a gothe program was an introduction to programming which is very different from my experience in college since i was verbose in the structure and characteristics of software development it was easily digestible the curriculum consisted of introductions to different programming languages and most importantly showed me how everything pieced together to form working and aesthetically pleasing products that definitely had the potential to be client facing projects that serve the public it was an eyeopening experience for me seeing and experiencing web development with relevant technologies like mvc es6 and the spring framework as most of the course material were quickly grasped by my existing mode of thinking i spent most of my time on the assignments perfecting them and pushing myself to create difficult effects or programs the instructors were all extremely helpful and understanding of my background and were even nice enough to provide me with bonus assignments to push what ive learned to its limitsi never would have guessed that codeup would benefit me in the way it did within a week of graduating i found a job as a salesforce developer at a consulting company here in san antonio together with the knowledge ive obtained from my degree i have put everything i learned at codeup to use creating real products used by thousands of real users i wouldnt be here without the experience i had not just with the curriculum but with the excellent career placement staff at codeup as cliche as it may sound the benefits ive gotten from the program that acted as supplements to my degree dont fall far from being lifechanging and i would encourage those who have experienced the same struggles as me in this competitive market to give it a go'"
      ]
     },
     "execution_count": 13,
     "metadata": {},
     "output_type": "execute_result"
    }
   ],
   "source": [
    "basic_clean_text = basic_clean(test)\n",
    "article = tokenize(basic_clean_text)\n",
    "# test to make sure it works\n",
    "article"
   ]
  },
  {
   "cell_type": "markdown",
   "metadata": {},
   "source": [
    "## 3. Define a function named `stem`. It should accept some text and return the text after applying stemming to all the words."
   ]
  },
  {
   "cell_type": "code",
   "execution_count": 14,
   "metadata": {},
   "outputs": [
    {
     "name": "stdout",
     "output_type": "stream",
     "text": [
      "i take pride in my bachelor degre start my comput career at triniti univers ha proven to be extrem import all the hour spent on algorithm design data structur logic are all essenti in what im do now howev it is not an uncommon idea that what colleg teach can sometim be at an offset to industri demand i experienc thi signific gap between employ expect and my comput skillset post colleg and with the ineedajobtogetexperiencetoworkforajobthatrequiresexperi catch that most colleg graduat experi the first few year of leav academia i found myself struggl to find employ the first year of leav my univers wa a humbl yet soulcrush experi whi is it that ive pursu a degre directli relat to such a hungri market for softwar develop but i am unabl to find a job among what seem like an endless stream of interview in which i partook i began to notic a trend i lack full stack develop experi with relev program languag that are current in demand turn out have the theoret knowledg isnt enough for most employ in the market the industri of softwar develop ha evolv throughout the year of it exist and with it evolut came new program languag that better suit the need of it user and the custom it will eventu serv ultim logic think did not trump most selftaught html css javascript develop that fill the market with highli innov idea and projectsa a triniti graduat who still live in san antonio after graduat i learn more about codeup from peer who contribut to the curriculum and program growth some of my classmat in my depart also attend the program and found great opportun within the industri upon graduat the program at first i wa skeptic of the valu codeup could bring to someon like me who alreadi had experi in program albeit in languag that werent exactli in demand but be unemploy and discourag for seemingli an etern i decid to give it a goth program wa an introduct to program which is veri differ from my experi in colleg sinc i wa verbos in the structur and characterist of softwar develop it wa easili digest the curriculum consist of introduct to differ program languag and most importantli show me how everyth piec togeth to form work and aesthet pleas product that definit had the potenti to be client face project that serv the public it wa an eyeopen experi for me see and experienc web develop with relev technolog like mvc es6 and the spring framework as most of the cours materi were quickli grasp by my exist mode of think i spent most of my time on the assign perfect them and push myself to creat difficult effect or program the instructor were all extrem help and understand of my background and were even nice enough to provid me with bonu assign to push what ive learn to it limitsi never would have guess that codeup would benefit me in the way it did within a week of graduat i found a job as a salesforc develop at a consult compani here in san antonio togeth with the knowledg ive obtain from my degre i have put everyth i learn at codeup to use creat real product use by thousand of real user i wouldnt be here without the experi i had not just with the curriculum but with the excel career placement staff at codeup as clich as it may sound the benefit ive gotten from the program that act as supplement to my degre dont fall far from be lifechang and i would encourag those who have experienc the same struggl as me in thi competit market to give it a go\n"
     ]
    }
   ],
   "source": [
    "ps = nltk.porter.PorterStemmer()\n",
    "stems = [ps.stem(word) for word in article.split()]\n",
    "article_stemmed = ' '.join(stems)\n",
    "print(article_stemmed)"
   ]
  },
  {
   "cell_type": "code",
   "execution_count": 15,
   "metadata": {},
   "outputs": [
    {
     "data": {
      "text/plain": [
       "the        32\n",
       "to         20\n",
       "i          18\n",
       "and        17\n",
       "of         16\n",
       "in         15\n",
       "it         13\n",
       "my         12\n",
       "a          12\n",
       "program    11\n",
       "dtype: int64"
      ]
     },
     "execution_count": 15,
     "metadata": {},
     "output_type": "execute_result"
    }
   ],
   "source": [
    "pd.Series(stems).value_counts().head(10)"
   ]
  },
  {
   "cell_type": "code",
   "execution_count": 63,
   "metadata": {},
   "outputs": [],
   "source": [
    "def stem(tokenized_text):\n",
    "    ps = nltk.stem.porter.PorterStemmer()\n",
    "    stems = [ps.stem(word) for word in tokenized_text.split()]\n",
    "    article_stemmed = ' '.join(stems)\n",
    "    return stems, article_stemmed  \n",
    "    "
   ]
  },
  {
   "cell_type": "code",
   "execution_count": 64,
   "metadata": {},
   "outputs": [],
   "source": [
    "test = df[4][\"content\"]\n",
    "basic_clean_text = basic_clean(test)\n",
    "tokenized_text = tokenize(basic_clean_text)\n",
    "# we need to return two arguments, the individual stems, and the text with the stems put back together. \n",
    "stems, stemmed_text = stem(tokenized_text)"
   ]
  },
  {
   "cell_type": "code",
   "execution_count": 65,
   "metadata": {},
   "outputs": [
    {
     "data": {
      "text/plain": [
       "to     64\n",
       "the    51\n",
       "of     35\n",
       "and    33\n",
       "i      31\n",
       "dtype: int64"
      ]
     },
     "execution_count": 65,
     "metadata": {},
     "output_type": "execute_result"
    }
   ],
   "source": [
    "pd.Series(stems).value_counts().head()"
   ]
  },
  {
   "cell_type": "markdown",
   "metadata": {},
   "source": [
    "## 4. Define a function named `lemmatize`. It should accept some text and return the text after applying lemmatization to each word."
   ]
  },
  {
   "cell_type": "code",
   "execution_count": 19,
   "metadata": {},
   "outputs": [],
   "source": [
    "wnl = nltk.stem.WordNetLemmatizer()\n",
    "\n",
    "lemmas = [wnl.lemmatize(word) for word in tokenized_text.split()]\n",
    "article_lemmatized = ' '.join(lemmas)"
   ]
  },
  {
   "cell_type": "code",
   "execution_count": 20,
   "metadata": {},
   "outputs": [
    {
     "data": {
      "text/plain": [
       "to        64\n",
       "the       51\n",
       "a         36\n",
       "of        35\n",
       "and       33\n",
       "i         31\n",
       "you       23\n",
       "codeup    20\n",
       "my        20\n",
       "that      19\n",
       "dtype: int64"
      ]
     },
     "execution_count": 20,
     "metadata": {},
     "output_type": "execute_result"
    }
   ],
   "source": [
    "pd.Series(lemmas).value_counts().head(10)"
   ]
  },
  {
   "cell_type": "code",
   "execution_count": 21,
   "metadata": {},
   "outputs": [],
   "source": [
    "def lemmatize(tokenized_text):\n",
    "    wnl = nltk.stem.WordNetLemmatizer()\n",
    "\n",
    "    lemmas = [wnl.lemmatize(word) for word in tokenized_text.split()]\n",
    "    article_lemmatized = ' '.join(lemmas)\n",
    "    return lemmas, article_lemmatized\n",
    "    "
   ]
  },
  {
   "cell_type": "code",
   "execution_count": 22,
   "metadata": {
    "scrolled": true
   },
   "outputs": [
    {
     "name": "stdout",
     "output_type": "stream",
     "text": [
      "['you', 'may', 'have', 'seen', 'codeups', 'billboard', 'around', 'town', 'featuring', 'recent', 'career', 'transitioners', 'weve', 'featured', 'former', 'law', 'student', 'baristas', 'hair', 'stylist', 'military', 'veteran', 'and', 'more', 'weve', 'recently', 'heard', 'that', 'the', 'advertising', 'ha', 'offended', 'people', 'from', 'those', 'profession', 'so', 'we', 'want', 'to', 'explain', 'our', 'message', 'more', 'clearlycodeups', 'mission', 'is', 'to', 'help', 'individual', 'in', 'transition', 'change', 'their', 'future', 'by', 'providing', 'a', 'fast', 'and', 'effective', 'entry', 'point', 'into', 'a', 'tech', 'career', 'we', 'believe', 'that', 'everyone', 'should', 'have', 'access', 'to', 'the', 'new', 'tech', 'economy', 'and', 'that', 'you', 'dont', 'need', 'any', 'specific', 'background', 'to', 'do', 'sothats', 'why', 'we', 'feature', 'real', 'graduate', 'of', 'our', 'program', 'who', 'have', 'started', 'new', 'career', 'from', 'a', 'diverse', 'set', 'of', 'background', 'luke', 'used', 'to', 'be', 'a', 'soldier', 'mar', 'wa', 'a', 'barista', 'and', 'bartender', 'john', 'wa', 'studying', 'law', 'and', 'sukari', 'wa', 'a', 'hairstylist', 'were', 'not', 'saying', 'those', 'werent', 'real', 'job', 'and', 'were', 'not', 'saying', 'software', 'development', 'is', 'better', 'for', 'you', 'we', 'are', 'saying', 'that', 'each', 'of', 'our', 'student', 'chose', 'software', 'development', 'for', 'their', 'own', 'reason', 'we', 'highlight', 'those', 'story', 'to', 'show', 'that', 'you', 'regardless', 'of', 'what', 'career', 'you', 'have', 'now', 'can', 'become', 'a', 'software', 'developer', 'if', 'thats', 'what', 'you', 'wantdont', 'just', 'listen', 'to', 'u', 'listen', 'to', 'the', 'real', 'student', 'whose', 'story', 'are', 'up', 'on', 'those', 'billboard']\n"
     ]
    }
   ],
   "source": [
    "# Test to make sure it works\n",
    "test = df[5][\"content\"]\n",
    "basic_clean_text= basic_clean(test)\n",
    "tokenized_text = tokenize(basic_clean_text)\n",
    "lemmas, lemmatized_text = lemmatize(tokenized_text)\n",
    "print(lemmas)"
   ]
  },
  {
   "cell_type": "markdown",
   "metadata": {},
   "source": [
    "## 5. Define a function named `remove_stopwords`. It should accept some text and return the text after removing all the stopwords.\n",
    "\n",
    "This function should define two optional parameters, extra_words and exclude_words. These parameters should define any additional stop words to include, and any words that we don't want to remove."
   ]
  },
  {
   "cell_type": "code",
   "execution_count": 95,
   "metadata": {},
   "outputs": [],
   "source": [
    "stopword_list = stopwords.words('english')\n",
    "\n",
    "stopword_list.remove('no')\n",
    "stopword_list.remove('not')\n",
    "\n",
    "words = lemmatized_text.split()\n",
    "filtered_words = [w for w in words if w not in stopword_list]\n",
    "article_without_stopwords = ' '.join(filtered_words)"
   ]
  },
  {
   "cell_type": "code",
   "execution_count": 24,
   "metadata": {
    "scrolled": true
   },
   "outputs": [
    {
     "name": "stdout",
     "output_type": "stream",
     "text": [
      "may seen codeups billboard around town featuring recent career transitioners weve featured former law student baristas hair stylist military veteran weve recently heard advertising ha offended people profession want explain message clearlycodeups mission help individual transition change future providing fast effective entry point tech career believe everyone access new tech economy dont need specific background sothats feature real graduate program started new career diverse set background luke used soldier mar wa barista bartender john wa studying law sukari wa hairstylist not saying werent real job not saying software development better saying student chose software development reason highlight story show regardless career become software developer thats wantdont listen u listen real student whose story billboard\n"
     ]
    }
   ],
   "source": [
    "print(article_without_stopwords)"
   ]
  },
  {
   "cell_type": "code",
   "execution_count": 109,
   "metadata": {},
   "outputs": [],
   "source": [
    "stopword_list = stopwords.words('english')"
   ]
  },
  {
   "cell_type": "code",
   "execution_count": 110,
   "metadata": {},
   "outputs": [],
   "source": [
    "words_remove = [\"not\", \"no\"]\n",
    "for item in words_remove:\n",
    "    stopword_list.remove(item)"
   ]
  },
  {
   "cell_type": "code",
   "execution_count": 111,
   "metadata": {},
   "outputs": [],
   "source": [
    "def remove_stopwords(lemmatized_text, extra_words = [], words_remove=[]):\n",
    "    stopword_list = stopwords.words('english')\n",
    "    \n",
    "    for item in words_remove:\n",
    "        stopword_list.remove(item)\n",
    "        \n",
    "    for item in extra_words:\n",
    "        stopword_list.append(item)\n",
    "    \n",
    "    words = lemmatized_text.split()\n",
    "    filtered_words = [w for w in words if w not in stopword_list]\n",
    "    article_without_stopwords = ' '.join(filtered_words)\n",
    "    return article_without_stopwords"
   ]
  },
  {
   "cell_type": "code",
   "execution_count": 114,
   "metadata": {},
   "outputs": [],
   "source": [
    "test = df[6][\"content\"]\n",
    "basic_clean_text = basic_clean(test)\n",
    "tokenized_text = tokenize(basic_clean_text)\n",
    "stem, lemmatized_text = lemmatize(tokenized_text)\n",
    "clean_text = remove_stopwords(lemmatized_text, extra_words = [\"like\"], words_remove = [\"no\"])"
   ]
  },
  {
   "cell_type": "code",
   "execution_count": 27,
   "metadata": {},
   "outputs": [
    {
     "data": {
      "text/plain": [
       "'picture youre making change youve made lifechanging decision attend codeup order switch career jumpstart skill youre way transformed life one barrier way paying codeup tuition cost livingcodeup focused two thing success curriculum designed expert regional employer coursework taught best instructor around track record successful graduatesskills fund focused two thing success take youve heard experienced student loan throw window whether youve proudly served country youre ready enter workforce youre starting career looking career switch upskilling providing return education partnering bootcamps school provide impactful proveable outcome studentstuition number one concern applicant coming codeup trusted lending partner like skill fund direct extremely beneficial admission manager confident skill fund providing great experience student offering great product help cover tuition costsmario codeup admission managerwhat doe mean weve partnered codeup provide clearcut fully upfront transparent financing tuition living expense eligible student may borrow 21500 tuition 6000 cost livingbut student loan get traditionally loan confusing unnecessarily mission transparent upfront honest term involved financing lender provides detail financing even apply student may discover rate interest rate general apr monthly repayment amount using loan calculator partnership websitehow repay youre attending codeup two month grace afterwards youll make low interestonly payment towards loan balance grace period end youll begin full repayment betting future no string attached pay loan time no prepayment penaltieshow doe work simple process take four stepsafter youve applied codeup head skill fund partnership website discover term calculate monthly repayment apply loan online le 10 minute choose 3 5year loan add cost living financing neededat end application well let know whether not youve approved youre denied may given opportunity add cosigneron second wednesday program begin tuition financing sent school cost living sent directly youyoull start making payment one month loan disbursed youll provided several option making payment including autopaywhat tuition covered need borrow small amount attend skill fund borrow little 2000 towards tuition calculate monthly repayment online understand would need contribute financing per monthwhat low credit score skill fund belief future reflected underwriting youre credit denied may eligible apply cosignerto learn skill fund financing codeup visit partnership website email u customertrustskillsfundlearn'"
      ]
     },
     "execution_count": 27,
     "metadata": {},
     "output_type": "execute_result"
    }
   ],
   "source": [
    "clean_text"
   ]
  },
  {
   "cell_type": "markdown",
   "metadata": {},
   "source": [
    "## 6. Define a function named `prep_article` that takes in the dictionary representing an article and returns a dictionary that looks like this:\n",
    "\n",
    " \n",
    "\n",
    "```\n",
    "\n",
    "{\n",
    "    'title': 'the original title'.\n",
    "    'original': original,\n",
    "    'stemmed': article_stemmed,\n",
    "    'lemmatized': article_lemmatized,\n",
    "    'clean': article_without_stopwords\n",
    "}\n",
    "\n",
    "```\n",
    "\n",
    "Note that if the orignal dictionary has a title property, it should remain unchanged (same goes for the category property)."
   ]
  },
  {
   "cell_type": "code",
   "execution_count": 28,
   "metadata": {},
   "outputs": [
    {
     "name": "stdout",
     "output_type": "stream",
     "text": [
      "Codeup Student Check In: Month 2 - Codeup\n",
      "Codeup’s Data Science Career Accelerator is Here! - Codeup\n",
      "Which Program is Right for Me? - Codeup\n",
      "From a Recent College Grad to Software Developer - Codeup\n",
      "5 Things Codeup Doesn’t Tell You - Codeup\n",
      "The Message Behind Our Billboards - Codeup\n",
      "Skills Fund: Financing to Fuel Your Codeup Future - Codeup\n",
      "What is Data Science? - Codeup\n",
      "Women in Tech Scholarship Recipient: Amy - Codeup\n",
      "Anxious About the Job Fair - Codeup\n",
      "Codeup Student Check In: Month 1 - Codeup\n",
      "Announcing Our New Minorities in Tech Scholarship - Codeup\n",
      "Fresh Out of Codeup: Cayden Simler - Codeup\n",
      "Top Trends and Tools for Recruiters in the Tech Industry - Codeup\n",
      "All About the Alamo Colleges Partnership! - Codeup\n",
      "The Job Fair is Over....Now What? Post Job Fair Tips - Codeup\n",
      "10 Tips to Crush It at the SA Tech Job Fair - Codeup\n",
      "5 Hiring Trends in Software Development - Codeup\n",
      "What Makes a Successful Software Developer? - Codeup\n",
      "Alumni Spotlight: Stefanie Young and Lorne Barfield - Codeup\n",
      "Alumni Spotlight: Mary-Kaitlin (MK) Warren - Codeup\n",
      "Competitor Bootcamps Are Closing. Is the Model in Danger? - Codeup\n",
      "Codeup Doubles Down on Transparency in Student Outcomes - Codeup\n",
      "The Codeup Commitment to Your Financial Well-Being - Codeup\n",
      "ITT Tech Closes, New Model of Education Rises - Codeup\n",
      "Codeup's Impact on the San Antonio Tech Community - Codeup\n",
      "Bootcamp Living Expenses? Codeup's Got You Covered. - Codeup\n",
      "6 Tips For Picking The Best Coding Bootcamp - Codeup\n",
      "Open for (Bitcoin) Business - Codeup\n",
      "A Guide to Hiring Fresh Technical Talent - Codeup\n",
      "Don't worry - Here's the Best Bootcamp Funding Options! - Codeup\n",
      "Startup Week - The little week that could. And did. - Codeup\n",
      "The Results are in...Codeup Growsup Was a Smashing Success! - Codeup\n",
      "Codeup Helps Rails Girls Help Women Learn to Code in San Antonio - Codeup\n",
      "Filling up fast! With good reason. - Codeup\n",
      "Codeup and LaunchCode Partner to Help Grads Launch Careers in Coding - Codeup\n",
      "Press Release: Free Learn to Code Bootcamp for Veterans and Transitioning Servicemembers Launches In-Class Portion - Codeup\n",
      "What The SA Tech Job Fair Says About San Antonio - Codeup\n",
      "Why Choose Codeup? - Codeup\n",
      "Use Your Texas Unemployment Benefits at Codeup - Codeup\n",
      "Q&A with Luis Martinez, Director of Entrepreneurship at Trinity University - Codeup\n"
     ]
    }
   ],
   "source": [
    "for i in range(len(df)):\n",
    "    print(df[i][\"title\"])"
   ]
  },
  {
   "cell_type": "code",
   "execution_count": 56,
   "metadata": {},
   "outputs": [],
   "source": [
    "def prep_article(article, text_key):\n",
    "    \n",
    "    uncleaned_text = article[text_key]\n",
    "    \n",
    "    basic_clean_text = basic_clean(uncleaned_text)\n",
    "    tokenized_text = tokenize(basic_clean_text)\n",
    "    stems, stemmed_text = stem(tokenized_text)\n",
    "    stem_lemmatize, lemmatized_text = lemmatize(tokenized_text)\n",
    "    cleaned_text = remove_stopwords(lemmatized_text)\n",
    "    \n",
    "    article.update({\"stemmed\": stemmed_text, \"lemmatized\": lemmatized_text, \"clean\": cleaned_text})\n",
    "    \n",
    "    return article\n",
    "    "
   ]
  },
  {
   "cell_type": "code",
   "execution_count": 67,
   "metadata": {},
   "outputs": [],
   "source": [
    "test = df[1]"
   ]
  },
  {
   "cell_type": "code",
   "execution_count": 68,
   "metadata": {
    "scrolled": true
   },
   "outputs": [],
   "source": [
    "article = prep_article(test)"
   ]
  },
  {
   "cell_type": "code",
   "execution_count": 45,
   "metadata": {
    "scrolled": true
   },
   "outputs": [
    {
     "data": {
      "text/plain": [
       "{'title': 'Codeup’s Data Science Career Accelerator is Here! - Codeup',\n",
       " 'content': 'The rumors are true! The time has arrived. Codeup has officially opened applications to our new Data Science career accelerator, with only 25 seats available! This immersive program is one of a kind in San Antonio, and will help you land a job in\\xa0Glassdoor’s #1 Best Job in America.Data Science is a method of providing actionable intelligence from data.\\xa0The data revolution has hit San Antonio,\\xa0resulting in an explosion in Data Scientist positions\\xa0across companies like USAA, Accenture, Booz Allen Hamilton, and HEB. We’ve even seen\\xa0UTSA invest $70 M for a Cybersecurity Center and School of Data Science.\\xa0We built a program to specifically meet the growing demands of this industry.Our program will be 18 weeks long, full-time, hands-on, and project-based. Our curriculum development and instruction is led by Senior Data Scientist, Maggie Giust, who has worked at HEB, Capital Group, and Rackspace, along with input from dozens of practitioners and hiring partners. Students will work with real data sets, realistic problems, and the entire data science pipeline from collection to deployment. They will receive professional development training in resume writing, interviewing, and continuing education to prepare for a smooth transition to the workforce.We focus on applied data science for immediate impact and ROI in a business, which is how we can back it all up with a 6 month tuition refund guarantee – just like our existing Web Dev program. We’re focusing on Data Science with Python, SQL, and ML, covered in\\xa014 modules: 1) Fundamentals; 2) Applied statistics; 3) SQL; 4) Python; 5) Supervised machine learning – regression; 6) Supervised machine learning – classification; 7) Unsupervised machine learning – clustering; 8) Time series analysis; 9) Anomaly detection; 10) Natural language processing; 11) Distributed machine learning; 12) Advanced topics (deep learning, NoSQL, cloud deployment, etc.); 13) Storytelling with data; and 14) Domain expertise development.Applications are now open\\xa0for Codeup’s first Data Science cohort, which will start class on February 4, 2019. Hurry – there are only 25 seats available! To further our mission of cultivating inclusive growth, scholarships will be available to women, minorities, LGBTQIA+ individuals, veterans, first responders, and people relocating to San Antonio.If you want to learn about joining our program or hiring our graduates, email datascience@codeup.com!',\n",
       " 'date_published': [<time datetime=\"2018-09-30T05:26:22+00:00\" itemprop=\"datePublished\">September 30, 2018</time>],\n",
       " 'stemmed': 'the rumor are true the time ha arriv codeup ha offici open applic to our new data scienc career acceler with onli 25 seat avail thi immers program is one of a kind in san antonio and will help you land a job in glassdoor 1 best job in americadata scienc is a method of provid action intellig from data the data revolut ha hit san antonio result in an explos in data scientist posit across compani like usaa accentur booz allen hamilton and heb weve even seen utsa invest 70 m for a cybersecur center and school of data scienc we built a program to specif meet the grow demand of thi industryour program will be 18 week long fulltim handson and projectbas our curriculum develop and instruct is led by senior data scientist maggi giust who ha work at heb capit group and rackspac along with input from dozen of practition and hire partner student will work with real data set realist problem and the entir data scienc pipelin from collect to deploy they will receiv profession develop train in resum write interview and continu educ to prepar for a smooth transit to the workforcew focu on appli data scienc for immedi impact and roi in a busi which is how we can back it all up with a 6 month tuition refund guarante just like our exist web dev program were focus on data scienc with python sql and ml cover in 14 modul 1 fundament 2 appli statist 3 sql 4 python 5 supervis machin learn regress 6 supervis machin learn classif 7 unsupervis machin learn cluster 8 time seri analysi 9 anomali detect 10 natur languag process 11 distribut machin learn 12 advanc topic deep learn nosql cloud deploy etc 13 storytel with data and 14 domain expertis developmentappl are now open for codeup first data scienc cohort which will start class on februari 4 2019 hurri there are onli 25 seat avail to further our mission of cultiv inclus growth scholarship will be avail to women minor lgbtqia individu veteran first respond and peopl reloc to san antonioif you want to learn about join our program or hire our graduat email datasciencecodeupcom',\n",
       " 'lemmatized': 'the rumor are true the time ha arrived codeup ha officially opened application to our new data science career accelerator with only 25 seat available this immersive program is one of a kind in san antonio and will help you land a job in glassdoors 1 best job in americadata science is a method of providing actionable intelligence from data the data revolution ha hit san antonio resulting in an explosion in data scientist position across company like usaa accenture booz allen hamilton and heb weve even seen utsa invest 70 m for a cybersecurity center and school of data science we built a program to specifically meet the growing demand of this industryour program will be 18 week long fulltime handson and projectbased our curriculum development and instruction is led by senior data scientist maggie giust who ha worked at heb capital group and rackspace along with input from dozen of practitioner and hiring partner student will work with real data set realistic problem and the entire data science pipeline from collection to deployment they will receive professional development training in resume writing interviewing and continuing education to prepare for a smooth transition to the workforcewe focus on applied data science for immediate impact and roi in a business which is how we can back it all up with a 6 month tuition refund guarantee just like our existing web dev program were focusing on data science with python sql and ml covered in 14 module 1 fundamental 2 applied statistic 3 sql 4 python 5 supervised machine learning regression 6 supervised machine learning classification 7 unsupervised machine learning clustering 8 time series analysis 9 anomaly detection 10 natural language processing 11 distributed machine learning 12 advanced topic deep learning nosql cloud deployment etc 13 storytelling with data and 14 domain expertise developmentapplications are now open for codeups first data science cohort which will start class on february 4 2019 hurry there are only 25 seat available to further our mission of cultivating inclusive growth scholarship will be available to woman minority lgbtqia individual veteran first responder and people relocating to san antonioif you want to learn about joining our program or hiring our graduate email datasciencecodeupcom',\n",
       " 'clean': 'rumor true time ha arrived codeup ha officially opened application new data science career accelerator 25 seat available immersive program one kind san antonio help land job glassdoors 1 best job americadata science method providing actionable intelligence data data revolution ha hit san antonio resulting explosion data scientist position across company like usaa accenture booz allen hamilton heb weve even seen utsa invest 70 cybersecurity center school data science built program specifically meet growing demand industryour program 18 week long fulltime handson projectbased curriculum development instruction led senior data scientist maggie giust ha worked heb capital group rackspace along input dozen practitioner hiring partner student work real data set realistic problem entire data science pipeline collection deployment receive professional development training resume writing interviewing continuing education prepare smooth transition workforcewe focus applied data science immediate impact roi business back 6 month tuition refund guarantee like existing web dev program focusing data science python sql ml covered 14 module 1 fundamental 2 applied statistic 3 sql 4 python 5 supervised machine learning regression 6 supervised machine learning classification 7 unsupervised machine learning clustering 8 time series analysis 9 anomaly detection 10 natural language processing 11 distributed machine learning 12 advanced topic deep learning nosql cloud deployment etc 13 storytelling data 14 domain expertise developmentapplications open codeups first data science cohort start class february 4 2019 hurry 25 seat available mission cultivating inclusive growth scholarship available woman minority lgbtqia individual veteran first responder people relocating san antonioif want learn joining program hiring graduate email datasciencecodeupcom'}"
      ]
     },
     "execution_count": 45,
     "metadata": {},
     "output_type": "execute_result"
    }
   ],
   "source": [
    "article"
   ]
  },
  {
   "cell_type": "markdown",
   "metadata": {},
   "source": [
    "## 7. Define a function named prepare_article_data that takes in the list of articles dictionaries, applies the prep_article function to each one, and returns the transformed data."
   ]
  },
  {
   "cell_type": "code",
   "execution_count": 69,
   "metadata": {
    "scrolled": true
   },
   "outputs": [],
   "source": [
    "for i in range(len(df)):\n",
    "     prep_article(df[i])"
   ]
  },
  {
   "cell_type": "code",
   "execution_count": 47,
   "metadata": {
    "scrolled": true
   },
   "outputs": [
    {
     "data": {
      "text/plain": [
       "{'title': 'Codeup Student Check In: Month 2 - Codeup',\n",
       " 'content': 'Codeup welcomed our newest cohort, the Wrangell cohort, on July 23. With the start of this cohort, we are launching a new blog series: the Codeup Student Check In. We’ll interview a student over the course of the 4.5 months to see how things are progressing from first impressions all the way to graduation. Thus, welcome to the Codeup Student Check In: Month 2!We took the time to sit down with our Wrangell student to see how they’ve been doing so far!Codeup: Describe what you’re learning right now. Is it hard/fun/challenging? Wrangell Student: In this section of the curriculum we are learning about the basics of Java and the building blocks that make up the language. This language is more verbose than previous material, and one of the hardest parts is understanding the instructions and translating them to code. C: How has the learning process/information gathering been?S: A wide variety of resources are available. In addition to the curriculum, I utilize the Head First Java book and the Oracle documentation. Another challenge is combining the knowledge from all these resources into one.C: How do you feel your skill level compares to last month? S: Comparing my skill level now with that of last month is no contest. Everyone around me is improving as well and I am excited to see my classmates skill levels growing. Our skills are improving exponentially!C: How have the instructors and staff been helpful?S: The instructors hold study hall before class and after to give us extra help. They’re constantly posting resources in our slack channel and encouraging us to ask questions. They have no problem going back to review material or clarify any questions we have. At the same time, they encourage our learning. They don’t give us the answer if it’s obvious or an easily searchable question.C: Share a fun experience you had at Codeup!Our great staff gave us some very cool thermoses. I’m a diehard sticker fan. I immediately ordered coding and anime related stickers for this thermos and they’re going straight on the thermos the moment they come in!C: What has been the most memorable part of this month and has anything exciting happened?S: Codeup expanded onto the 6th floor of the Vogue building, so we’re coding in a totally different environment. It’s full of natural light, which makes me very happy. I personally love heights so it’s great to look out the windows while taking a break from coding.Something exciting that happened was that I got my first star! Instructors give us stars for asking good questions. I’m the type of person who needs to google the answer first before asking something. I wouldn’t want to ask something that is easily available on the internet. However, Java is very challenging, and I just needed to ask questions and I got a star! Super exciting!\\xa0',\n",
       " 'date_published': [<time datetime=\"2018-10-03T16:03:42+00:00\" itemprop=\"datePublished\">October 3, 2018</time>],\n",
       " 'stemmed': 'codeup welcom our newest cohort the wrangel cohort on juli 23 with the start of thi cohort we are launch a new blog seri the codeup student check in well interview a student over the cours of the 45 month to see how thing are progress from first impress all the way to graduat thu welcom to the codeup student check in month 2we took the time to sit down with our wrangel student to see how theyv been do so farcodeup describ what your learn right now is it hardfunchalleng wrangel student in thi section of the curriculum we are learn about the basic of java and the build block that make up the languag thi languag is more verbos than previou materi and one of the hardest part is understand the instruct and translat them to code c how ha the learn processinform gather been a wide varieti of resourc are avail in addit to the curriculum i util the head first java book and the oracl document anoth challeng is combin the knowledg from all these resourc into onec how do you feel your skill level compar to last month s compar my skill level now with that of last month is no contest everyon around me is improv as well and i am excit to see my classmat skill level grow our skill are improv exponentiallyc how have the instructor and staff been help the instructor hold studi hall befor class and after to give us extra help theyr constantli post resourc in our slack channel and encourag us to ask question they have no problem go back to review materi or clarifi ani question we have at the same time they encourag our learn they dont give us the answer if it obviou or an easili searchabl questionc share a fun experi you had at codeupour great staff gave us some veri cool thermos im a diehard sticker fan i immedi order code and anim relat sticker for thi thermo and theyr go straight on the thermo the moment they come inc what ha been the most memor part of thi month and ha anyth excit happen codeup expand onto the 6th floor of the vogu build so were code in a total differ environ it full of natur light which make me veri happi i person love height so it great to look out the window while take a break from codingsometh excit that happen wa that i got my first star instructor give us star for ask good question im the type of person who need to googl the answer first befor ask someth i wouldnt want to ask someth that is easili avail on the internet howev java is veri challeng and i just need to ask question and i got a star super excit',\n",
       " 'lemmatized': 'codeup welcomed our newest cohort the wrangell cohort on july 23 with the start of this cohort we are launching a new blog series the codeup student check in well interview a student over the course of the 45 month to see how thing are progressing from first impression all the way to graduation thus welcome to the codeup student check in month 2we took the time to sit down with our wrangell student to see how theyve been doing so farcodeup describe what youre learning right now is it hardfunchallenging wrangell student in this section of the curriculum we are learning about the basic of java and the building block that make up the language this language is more verbose than previous material and one of the hardest part is understanding the instruction and translating them to code c how ha the learning processinformation gathering beens a wide variety of resource are available in addition to the curriculum i utilize the head first java book and the oracle documentation another challenge is combining the knowledge from all these resource into onec how do you feel your skill level compare to last month s comparing my skill level now with that of last month is no contest everyone around me is improving a well and i am excited to see my classmate skill level growing our skill are improving exponentiallyc how have the instructor and staff been helpfuls the instructor hold study hall before class and after to give u extra help theyre constantly posting resource in our slack channel and encouraging u to ask question they have no problem going back to review material or clarify any question we have at the same time they encourage our learning they dont give u the answer if it obvious or an easily searchable questionc share a fun experience you had at codeupour great staff gave u some very cool thermos im a diehard sticker fan i immediately ordered coding and anime related sticker for this thermos and theyre going straight on the thermos the moment they come inc what ha been the most memorable part of this month and ha anything exciting happeneds codeup expanded onto the 6th floor of the vogue building so were coding in a totally different environment it full of natural light which make me very happy i personally love height so it great to look out the window while taking a break from codingsomething exciting that happened wa that i got my first star instructor give u star for asking good question im the type of person who need to google the answer first before asking something i wouldnt want to ask something that is easily available on the internet however java is very challenging and i just needed to ask question and i got a star super exciting',\n",
       " 'clean': 'codeup welcomed newest cohort wrangell cohort july 23 start cohort launching new blog series codeup student check well interview student course 45 month see thing progressing first impression way graduation thus welcome codeup student check month 2we took time sit wrangell student see theyve farcodeup describe youre learning right hardfunchallenging wrangell student section curriculum learning basic java building block make language language verbose previous material one hardest part understanding instruction translating code c ha learning processinformation gathering beens wide variety resource available addition curriculum utilize head first java book oracle documentation another challenge combining knowledge resource onec feel skill level compare last month comparing skill level last month no contest everyone around improving well excited see classmate skill level growing skill improving exponentiallyc instructor staff helpfuls instructor hold study hall class give u extra help theyre constantly posting resource slack channel encouraging u ask question no problem going back review material clarify question time encourage learning dont give u answer obvious easily searchable questionc share fun experience codeupour great staff gave u cool thermos im diehard sticker fan immediately ordered coding anime related sticker thermos theyre going straight thermos moment come inc ha memorable part month ha anything exciting happeneds codeup expanded onto 6th floor vogue building coding totally different environment full natural light make happy personally love height great look window taking break codingsomething exciting happened wa got first star instructor give u star asking good question im type person need google answer first asking something wouldnt want ask something easily available internet however java challenging needed ask question got star super exciting'}"
      ]
     },
     "execution_count": 47,
     "metadata": {},
     "output_type": "execute_result"
    }
   ],
   "source": [
    "df[0]"
   ]
  },
  {
   "cell_type": "code",
   "execution_count": 58,
   "metadata": {},
   "outputs": [],
   "source": [
    "def prepare_article_data(articles):\n",
    "    for i in range(len(articles)):\n",
    "         prep_article(articles[i], text_key = \"content\")\n",
    "    return articles"
   ]
  },
  {
   "cell_type": "code",
   "execution_count": 59,
   "metadata": {},
   "outputs": [],
   "source": [
    "articles = prepare_article_data(df)"
   ]
  },
  {
   "cell_type": "markdown",
   "metadata": {},
   "source": [
    "-----"
   ]
  },
  {
   "cell_type": "markdown",
   "metadata": {},
   "source": [
    "## Test that the function works"
   ]
  },
  {
   "cell_type": "code",
   "execution_count": 50,
   "metadata": {},
   "outputs": [],
   "source": [
    "inshort = acquire.get_news_articles(topics = [\"business\", \"sports\"])"
   ]
  },
  {
   "cell_type": "code",
   "execution_count": 51,
   "metadata": {
    "scrolled": true
   },
   "outputs": [
    {
     "data": {
      "text/plain": [
       "{'title': \"US firm buys Serum Institute parent's Czech unit to make Covid-19 vaccine\",\n",
       " 'author': 'Krishna Veera Vanamali',\n",
       " 'topic': 'business',\n",
       " 'content': \"US biotech firm Novavax has announced it's buying Czech Republic-based Praha Vaccines, a unit of Cyrus Poonawalla Group, which also owns Serum Institute of India, for ₹1,270 crore. The facility is expected to provide an annual capacity of over 1 billion doses of antigen starting in 2021 for Novavax's Covid-19 vaccine candidate. Novavax currently has no product on the market.\",\n",
       " 'date_published': '2020-05-28T04:52:28.000Z',\n",
       " 'page_url': 'https://inshorts.com/en/news/us-firm-buys-serum-institute-parents-czech-unit-to-make-covid19-vaccine-1590641548030'}"
      ]
     },
     "execution_count": 51,
     "metadata": {},
     "output_type": "execute_result"
    }
   ],
   "source": [
    "inshort[0]"
   ]
  },
  {
   "cell_type": "code",
   "execution_count": 52,
   "metadata": {},
   "outputs": [],
   "source": [
    "new_inshort = prepare_article_data(inshort)"
   ]
  },
  {
   "cell_type": "code",
   "execution_count": 54,
   "metadata": {
    "scrolled": false
   },
   "outputs": [
    {
     "data": {
      "text/plain": [
       "{'title': \"US firm buys Serum Institute parent's Czech unit to make Covid-19 vaccine\",\n",
       " 'author': 'Krishna Veera Vanamali',\n",
       " 'topic': 'business',\n",
       " 'content': \"US biotech firm Novavax has announced it's buying Czech Republic-based Praha Vaccines, a unit of Cyrus Poonawalla Group, which also owns Serum Institute of India, for ₹1,270 crore. The facility is expected to provide an annual capacity of over 1 billion doses of antigen starting in 2021 for Novavax's Covid-19 vaccine candidate. Novavax currently has no product on the market.\",\n",
       " 'date_published': '2020-05-28T04:52:28.000Z',\n",
       " 'page_url': 'https://inshorts.com/en/news/us-firm-buys-serum-institute-parents-czech-unit-to-make-covid19-vaccine-1590641548030',\n",
       " 'stemmed': \"us biotech firm novavax ha announc it ' s buy czech republicbas praha vaccin a unit of cyru poonawalla group which also own serum institut of india for 1270 crore the facil is expect to provid an annual capac of over 1 billion dose of antigen start in 2021 for novavax ' s covid19 vaccin candid novavax current ha no product on the market\",\n",
       " 'lemmatized': \"u biotech firm novavax ha announced it ' s buying czech republicbased praha vaccine a unit of cyrus poonawalla group which also owns serum institute of india for 1270 crore the facility is expected to provide an annual capacity of over 1 billion dos of antigen starting in 2021 for novavax ' s covid19 vaccine candidate novavax currently ha no product on the market\",\n",
       " 'clean': \"u biotech firm novavax ha announced ' buying czech republicbased praha vaccine unit cyrus poonawalla group also owns serum institute india 1270 crore facility expected provide annual capacity 1 billion dos antigen starting 2021 novavax ' covid19 vaccine candidate novavax currently ha no product market\"}"
      ]
     },
     "execution_count": 54,
     "metadata": {},
     "output_type": "execute_result"
    }
   ],
   "source": [
    "new_inshort[0]"
   ]
  },
  {
   "cell_type": "markdown",
   "metadata": {},
   "source": [
    "-----"
   ]
  },
  {
   "cell_type": "markdown",
   "metadata": {},
   "source": [
    "## Test the .py file"
   ]
  },
  {
   "cell_type": "code",
   "execution_count": 71,
   "metadata": {},
   "outputs": [],
   "source": [
    "import prepare"
   ]
  },
  {
   "cell_type": "code",
   "execution_count": 72,
   "metadata": {},
   "outputs": [],
   "source": [
    "inshorts = acquire.get_news_articles(topics = [\"technology\"])"
   ]
  },
  {
   "cell_type": "code",
   "execution_count": 74,
   "metadata": {},
   "outputs": [],
   "source": [
    "new_inshorts = prepare.prepare_article_data(inshorts)"
   ]
  },
  {
   "cell_type": "code",
   "execution_count": 75,
   "metadata": {
    "scrolled": true
   },
   "outputs": [
    {
     "data": {
      "text/plain": [
       "[{'title': 'Leave staff out of this: Twitter CEO responds to Trump after labelling his tweets',\n",
       "  'author': 'Krishna Veera Vanamali',\n",
       "  'topic': 'technology',\n",
       "  'content': 'Twitter CEO Jack Dorsey defended the company\\'s decision to fact-check US President Trump\\'s tweets despite him threatening to take action against Twitter. \"Please leave our employees out of this,\" Dorsey said after Head of Site Integrity Yoel Roth was targeted for his old anti-Trump tweets. \"There\\'s someone ultimately accountable for our actions as a company, and that\\'s me,\" he added.',\n",
       "  'date_published': '2020-05-28T08:32:11.000Z',\n",
       "  'page_url': 'https://inshorts.com/en/news/leave-staff-out-of-this-twitter-ceo-responds-to-trump-after-labelling-his-tweets-1590654731904',\n",
       "  'stemmed': \"twitter ceo jack dorsey defend the compani ' s decis to factcheck us presid trump ' s tweet despit him threaten to take action against twitter pleas leav our employe out of thi dorsey said after head of site integr yoel roth wa target for hi old antitrump tweet there ' s someon ultim account for our action as a compani and that ' s me he ad\",\n",
       "  'lemmatized': \"twitter ceo jack dorsey defended the company ' s decision to factcheck u president trump ' s tweet despite him threatening to take action against twitter please leave our employee out of this dorsey said after head of site integrity yoel roth wa targeted for his old antitrump tweet there ' s someone ultimately accountable for our action a a company and that ' s me he added\",\n",
       "  'clean': \"twitter ceo jack dorsey defended company ' decision factcheck u president trump ' tweet despite threatening take action twitter please leave employee dorsey said head site integrity yoel roth wa targeted old antitrump tweet ' someone ultimately accountable action company ' added\"},\n",
       " {'title': \"If it goes wrong, it's my fault: Musk hours before NASA-SpaceX's space mission\",\n",
       "  'author': 'Pragya Swastik',\n",
       "  'topic': 'technology',\n",
       "  'content': 'SpaceX CEO Elon Musk said, \"If it goes right, credit goes to SpaceX-NASA team. If it goes wrong, it\\'s my fault,\" hours before SpaceX\\'s launch of humans into orbit today midnight. SpaceX will launch NASA astronauts Bob Behnken and Doug Hurley into orbit on its new Crew Dragon spaceship at 2:00 am. The NASA-SpaceX mission is called \\'Demo 2\\'.',\n",
       "  'date_published': '2020-05-27T16:30:34.000Z',\n",
       "  'page_url': 'https://inshorts.com/en/news/if-it-goes-wrong-its-my-fault-musk-hours-before-nasaspacexs-space-mission-1590597034761',\n",
       "  'stemmed': \"spacex ceo elon musk said if it goe right credit goe to spacexnasa team if it goe wrong it ' s my fault hour befor spacex ' s launch of human into orbit today midnight spacex will launch nasa astronaut bob behnken and doug hurley into orbit on it new crew dragon spaceship at 200 am the nasaspacex mission is call ' demo 2 '\",\n",
       "  'lemmatized': \"spacex ceo elon musk said if it go right credit go to spacexnasa team if it go wrong it ' s my fault hour before spacex ' s launch of human into orbit today midnight spacex will launch nasa astronaut bob behnken and doug hurley into orbit on it new crew dragon spaceship at 200 am the nasaspacex mission is called ' demo 2 '\",\n",
       "  'clean': \"spacex ceo elon musk said go right credit go spacexnasa team go wrong ' fault hour spacex ' launch human orbit today midnight spacex launch nasa astronaut bob behnken doug hurley orbit new crew dragon spaceship 200 nasaspacex mission called ' demo 2 '\"},\n",
       " {'title': 'Google in talks to buy 5% stake in Vodafone Idea: Reports',\n",
       "  'author': 'Krishna Veera Vanamali',\n",
       "  'topic': 'technology',\n",
       "  'content': 'Google is exploring an investment in Vodafone Idea as part of the US technology giant\\'s push into India, Financial Times reported. It said that Google is considering buying a stake of about 5% in Vodafone Idea while the process is at a \"very early stage\". Recently, Facebook announced an investment of $5.7 billion in Jio Platforms for a 9.99% stake.',\n",
       "  'date_published': '2020-05-28T11:35:47.000Z',\n",
       "  'page_url': 'https://inshorts.com/en/news/google-in-talks-to-buy-5-stake-in-vodafone-idea-reports-1590665747153',\n",
       "  'stemmed': \"googl is explor an invest in vodafon idea as part of the us technolog giant ' s push into india financi time report it said that googl is consid buy a stake of about 5 in vodafon idea while the process is at a veri earli stage recent facebook announc an invest of 57 billion in jio platform for a 999 stake\",\n",
       "  'lemmatized': \"google is exploring an investment in vodafone idea a part of the u technology giant ' s push into india financial time reported it said that google is considering buying a stake of about 5 in vodafone idea while the process is at a very early stage recently facebook announced an investment of 57 billion in jio platform for a 999 stake\",\n",
       "  'clean': \"google exploring investment vodafone idea part u technology giant ' push india financial time reported said google considering buying stake 5 vodafone idea process early stage recently facebook announced investment 57 billion jio platform 999 stake\"},\n",
       " {'title': \"Did everything so your dads come back OK: Musk told astronauts' kids before launch\",\n",
       "  'author': 'Pragya Swastik',\n",
       "  'topic': 'technology',\n",
       "  'content': 'SpaceX CEO Elon Musk told NASA astronauts Bob Behnken and Doug Hurley\\'s kids that they\\'ve done everything to make sure that their dads \"come back OK\" before SpaceX and NASA\\'s spaceflight on Wednesday. \"I felt it most strongly when I saw their families,\" said Musk. The demo spaceflight was cancelled 17 minutes before liftoff due to unsafe weather conditions. ',\n",
       "  'date_published': '2020-05-28T11:27:21.000Z',\n",
       "  'page_url': 'https://inshorts.com/en/news/did-everything-so-your-dads-come-back-ok-musk-told-astronauts-kids-before-launch-1590665241843',\n",
       "  'stemmed': \"spacex ceo elon musk told nasa astronaut bob behnken and doug hurley ' s kid that they ' ve done everyth to make sure that their dad come back ok befor spacex and nasa ' s spaceflight on wednesday i felt it most strongli when i saw their famili said musk the demo spaceflight wa cancel 17 minut befor liftoff due to unsaf weather condit\",\n",
       "  'lemmatized': \"spacex ceo elon musk told nasa astronaut bob behnken and doug hurley ' s kid that they ' ve done everything to make sure that their dad come back ok before spacex and nasa ' s spaceflight on wednesday i felt it most strongly when i saw their family said musk the demo spaceflight wa cancelled 17 minute before liftoff due to unsafe weather condition\",\n",
       "  'clean': \"spacex ceo elon musk told nasa astronaut bob behnken doug hurley ' kid ' done everything make sure dad come back ok spacex nasa ' spaceflight wednesday felt strongly saw family said musk demo spaceflight wa cancelled 17 minute liftoff due unsafe weather condition\"},\n",
       " {'title': 'MobiKwik CEO claims Google removed app from Play Store over link to Aarogya Setu',\n",
       "  'author': 'Pragya Swastik',\n",
       "  'topic': 'technology',\n",
       "  'content': \"MobiKwik's Co-founder and CEO Bipin Preet Singh accused Google of removing MobiKwik app from the Play Store because the app had a link to Aarogya Setu app. Singh said that a week ago, Google had warned MobiKwik for promoting the app on its platform and termed it as deceptive. However, when MobiKwik contacted Google, they said it was a mistake.\",\n",
       "  'date_published': '2020-05-28T14:55:46.000Z',\n",
       "  'page_url': 'https://inshorts.com/en/news/mobikwik-ceo-claims-google-removed-app-from-play-store-over-link-to-aarogya-setu-1590677746721',\n",
       "  'stemmed': \"mobikwik ' s cofound and ceo bipin preet singh accus googl of remov mobikwik app from the play store becaus the app had a link to aarogya setu app singh said that a week ago googl had warn mobikwik for promot the app on it platform and term it as decept howev when mobikwik contact googl they said it wa a mistak\",\n",
       "  'lemmatized': \"mobikwik ' s cofounder and ceo bipin preet singh accused google of removing mobikwik app from the play store because the app had a link to aarogya setu app singh said that a week ago google had warned mobikwik for promoting the app on it platform and termed it a deceptive however when mobikwik contacted google they said it wa a mistake\",\n",
       "  'clean': \"mobikwik ' cofounder ceo bipin preet singh accused google removing mobikwik app play store app link aarogya setu app singh said week ago google warned mobikwik promoting app platform termed deceptive however mobikwik contacted google said wa mistake\"},\n",
       " {'title': \"Facebook CEO Zuckerberg criticises Twitter for fact-checking Trump's tweets\",\n",
       "  'author': 'Pragya Swastik',\n",
       "  'topic': 'technology',\n",
       "  'content': 'A day after Twitter fact-checked US President Donald Trump\\'s tweets, Facebook CEO Mark Zuckerberg said, \"I strongly believe that Facebook shouldn\\'t be the arbiter of truth of everything people say online.\" \"We have a different policy than Twitter on this,\" he said. \"Private companies probably shouldn\\'t be, especially these platform companies, shouldn\\'t be in position of doing that,\" he added.',\n",
       "  'date_published': '2020-05-28T09:48:40.000Z',\n",
       "  'page_url': 'https://inshorts.com/en/news/facebook-ceo-zuckerberg-criticises-twitter-for-factchecking-trumps-tweets-1590659320782',\n",
       "  'stemmed': \"a day after twitter factcheck us presid donald trump ' s tweet facebook ceo mark zuckerberg said i strongli believ that facebook shouldn ' t be the arbit of truth of everyth peopl say onlin we have a differ polici than twitter on thi he said privat compani probabl shouldn ' t be especi these platform compani shouldn ' t be in posit of do that he ad\",\n",
       "  'lemmatized': \"a day after twitter factchecked u president donald trump ' s tweet facebook ceo mark zuckerberg said i strongly believe that facebook shouldn ' t be the arbiter of truth of everything people say online we have a different policy than twitter on this he said private company probably shouldn ' t be especially these platform company shouldn ' t be in position of doing that he added\",\n",
       "  'clean': \"day twitter factchecked u president donald trump ' tweet facebook ceo mark zuckerberg said strongly believe facebook ' arbiter truth everything people say online different policy twitter said private company probably ' especially platform company ' position added\"},\n",
       " {'title': 'Trump to sign executive order on social media today: White House',\n",
       "  'author': 'Aishwarya',\n",
       "  'topic': 'technology',\n",
       "  'content': 'White House officials have said that US President Donald Trump will be signing an executive order today on social media companies. However, they did not give any further details about the order. Earlier, Trump had threatened to \"strongly regulate, or close down\" social media platforms after Twitter added fact-check links to his tweets for the first time.',\n",
       "  'date_published': '2020-05-28T09:49:45.000Z',\n",
       "  'page_url': 'https://inshorts.com/en/news/trump-to-sign-executive-order-on-social-media-today-white-house-1590659385471',\n",
       "  'stemmed': 'white hous offici have said that us presid donald trump will be sign an execut order today on social media compani howev they did not give ani further detail about the order earlier trump had threaten to strongli regul or close down social media platform after twitter ad factcheck link to hi tweet for the first time',\n",
       "  'lemmatized': 'white house official have said that u president donald trump will be signing an executive order today on social medium company however they did not give any further detail about the order earlier trump had threatened to strongly regulate or close down social medium platform after twitter added factcheck link to his tweet for the first time',\n",
       "  'clean': 'white house official said u president donald trump signing executive order today social medium company however not give detail order earlier trump threatened strongly regulate close social medium platform twitter added factcheck link tweet first time'},\n",
       " {'title': 'Microsoft in talks to buy 2.5% stake in Jio for $2 billion: Report',\n",
       "  'author': 'Anushka Dixit',\n",
       "  'topic': 'technology',\n",
       "  'content': 'Microsoft is in talks with Mukesh Ambani-led Reliance Industries to buy over 2.5% stake in Jio for $2 billion, Livemint reported. This comes as Jio has raised over $10 billion in about a month from Facebook, KKR, Silver Lake, Vista Equity Partners and General Atlantic. Notably, Microsoft and Reliance have already been working on getting xCloud gaming platform to India.',\n",
       "  'date_published': '2020-05-28T09:01:02.000Z',\n",
       "  'page_url': 'https://inshorts.com/en/news/microsoft-in-talks-to-buy-25-stake-in-jio-for-$2-billion-report-1590656462690',\n",
       "  'stemmed': 'microsoft is in talk with mukesh ambanil relianc industri to buy over 25 stake in jio for 2 billion livemint report thi come as jio ha rais over 10 billion in about a month from facebook kkr silver lake vista equiti partner and gener atlant notabl microsoft and relianc have alreadi been work on get xcloud game platform to india',\n",
       "  'lemmatized': 'microsoft is in talk with mukesh ambaniled reliance industry to buy over 25 stake in jio for 2 billion livemint reported this come a jio ha raised over 10 billion in about a month from facebook kkr silver lake vista equity partner and general atlantic notably microsoft and reliance have already been working on getting xcloud gaming platform to india',\n",
       "  'clean': 'microsoft talk mukesh ambaniled reliance industry buy 25 stake jio 2 billion livemint reported come jio ha raised 10 billion month facebook kkr silver lake vista equity partner general atlantic notably microsoft reliance already working getting xcloud gaming platform india'},\n",
       " {'title': 'This will be a Big Day for Social Media and Fairness: Trump',\n",
       "  'author': 'Aishwarya',\n",
       "  'topic': 'technology',\n",
       "  'content': 'After White House officials said US President Donald Trump would be signing an executive order on social media platforms, Trump tweeted, \"This will be a Big Day for Social Media and FAIRNESS!\" Officials had not given more details on it. However, Trump is expected to order review of law that protects platforms from being responsible for users\\' post, Reuters reported.',\n",
       "  'date_published': '2020-05-28T13:40:32.000Z',\n",
       "  'page_url': 'https://inshorts.com/en/news/this-will-be-a-big-day-for-social-media-and-fairness-trump-1590673232705',\n",
       "  'stemmed': \"after white hous offici said us presid donald trump would be sign an execut order on social media platform trump tweet thi will be a big day for social media and fair offici had not given more detail on it howev trump is expect to order review of law that protect platform from be respons for user ' post reuter report\",\n",
       "  'lemmatized': \"after white house official said u president donald trump would be signing an executive order on social medium platform trump tweeted this will be a big day for social medium and fairness official had not given more detail on it however trump is expected to order review of law that protects platform from being responsible for user ' post reuters reported\",\n",
       "  'clean': \"white house official said u president donald trump would signing executive order social medium platform trump tweeted big day social medium fairness official not given detail however trump expected order review law protects platform responsible user ' post reuters reported\"},\n",
       " {'title': 'SpaceX-NASA mission called off 17 minutes before liftoff due to bad weather ',\n",
       "  'author': 'Krishna Veera Vanamali',\n",
       "  'topic': 'technology',\n",
       "  'content': \"Elon Musk's SpaceX called off the launch of two NASA astronauts into orbit due to bad weather and will try again on Sunday. The countdown was halted less than 17 minutes before Falcon 9 rocket's scheduled liftoff. The launch would be first-ever crewed mission for SpaceX and mark the first spaceflight of NASA astronauts from US soil in nine years.\",\n",
       "  'date_published': '2020-05-28T04:02:34.000Z',\n",
       "  'page_url': 'https://inshorts.com/en/news/1st-crewed-mission-by-spacex-called-off-17-mins-before-liftoff-over-bad-weather-1590638554841',\n",
       "  'stemmed': \"elon musk ' s spacex call off the launch of two nasa astronaut into orbit due to bad weather and will tri again on sunday the countdown wa halt less than 17 minut befor falcon 9 rocket ' s schedul liftoff the launch would be firstev crew mission for spacex and mark the first spaceflight of nasa astronaut from us soil in nine year\",\n",
       "  'lemmatized': \"elon musk ' s spacex called off the launch of two nasa astronaut into orbit due to bad weather and will try again on sunday the countdown wa halted le than 17 minute before falcon 9 rocket ' s scheduled liftoff the launch would be firstever crewed mission for spacex and mark the first spaceflight of nasa astronaut from u soil in nine year\",\n",
       "  'clean': \"elon musk ' spacex called launch two nasa astronaut orbit due bad weather try sunday countdown wa halted le 17 minute falcon 9 rocket ' scheduled liftoff launch would firstever crewed mission spacex mark first spaceflight nasa astronaut u soil nine year\"},\n",
       " {'title': 'Abu Dhabi state fund in talks to invest $1 billion in Jio Platforms: Report',\n",
       "  'author': 'Anushka Dixit',\n",
       "  'topic': 'technology',\n",
       "  'content': 'Abu Dhabi state fund Mubadala Investment Company is in talks to invest $1 billion in Reliance Industries\\' Jio Platforms, reports said. Mubadala told Reuters that Jio has been getting investments from \"wide range of world-class investors\". Jio has raised over $10 billion from investors including Facebook in a month and is reportedly planning to get another $2-billion investment from Microsoft.',\n",
       "  'date_published': '2020-05-28T11:57:07.000Z',\n",
       "  'page_url': 'https://inshorts.com/en/news/abu-dhabi-state-fund-in-talks-to-invest-$1-billion-in-jio-platforms-report-1590667027248',\n",
       "  'stemmed': \"abu dhabi state fund mubadala invest compani is in talk to invest 1 billion in relianc industri ' jio platform report said mubadala told reuter that jio ha been get invest from wide rang of worldclass investor jio ha rais over 10 billion from investor includ facebook in a month and is reportedli plan to get anoth 2billion invest from microsoft\",\n",
       "  'lemmatized': \"abu dhabi state fund mubadala investment company is in talk to invest 1 billion in reliance industry ' jio platform report said mubadala told reuters that jio ha been getting investment from wide range of worldclass investor jio ha raised over 10 billion from investor including facebook in a month and is reportedly planning to get another 2billion investment from microsoft\",\n",
       "  'clean': \"abu dhabi state fund mubadala investment company talk invest 1 billion reliance industry ' jio platform report said mubadala told reuters jio ha getting investment wide range worldclass investor jio ha raised 10 billion investor including facebook month reportedly planning get another 2billion investment microsoft\"},\n",
       " {'title': \"Ford's software to heat its police vehicles to 133°F to disinfect them\",\n",
       "  'author': 'Aishwarya',\n",
       "  'topic': 'technology',\n",
       "  'content': 'Ford has designed a new heated software enhancement that would heat its Police Interceptor Utility vehicles to 133°F to disinfect them. It will heat the vehicles from inside for 15 minutes, which \"is long enough to help disinfect vehicle touchpoints\". The software is available immediately on all 2013-19 Police Interceptor Utility vehicles in US, Canada and other countries worldwide.',\n",
       "  'date_published': '2020-05-28T16:32:56.000Z',\n",
       "  'page_url': 'https://inshorts.com/en/news/fords-software-to-heat-its-police-vehicles-to-133°f-to-disinfect-them-1590683576268',\n",
       "  'stemmed': 'ford ha design a new heat softwar enhanc that would heat it polic interceptor util vehicl to 133f to disinfect them it will heat the vehicl from insid for 15 minut which is long enough to help disinfect vehicl touchpoint the softwar is avail immedi on all 201319 polic interceptor util vehicl in us canada and other countri worldwid',\n",
       "  'lemmatized': 'ford ha designed a new heated software enhancement that would heat it police interceptor utility vehicle to 133f to disinfect them it will heat the vehicle from inside for 15 minute which is long enough to help disinfect vehicle touchpoints the software is available immediately on all 201319 police interceptor utility vehicle in u canada and other country worldwide',\n",
       "  'clean': 'ford ha designed new heated software enhancement would heat police interceptor utility vehicle 133f disinfect heat vehicle inside 15 minute long enough help disinfect vehicle touchpoints software available immediately 201319 police interceptor utility vehicle u canada country worldwide'},\n",
       " {'title': 'TikTok-parent ByteDance moving decision-making out of China: Report',\n",
       "  'author': 'Aishwarya',\n",
       "  'topic': 'technology',\n",
       "  'content': \"TikTok's parent company ByteDance is planning to 'shift its centre of power away from China', Reuters reported. It has made several moves to transfer global decision-making and research capabilities out of China. The strategy isn't just aimed at TikTok but all of its non-China focused businesses, report quoted sources. ByteDance expanded TikTok's engineering and R&D operations in California.\",\n",
       "  'date_published': '2020-05-28T16:44:04.000Z',\n",
       "  'page_url': 'https://inshorts.com/en/news/tiktokparent-bytedance-moving-decisionmaking-out-of-china-report-1590684244501',\n",
       "  'stemmed': \"tiktok ' s parent compani byted is plan to ' shift it centr of power away from china ' reuter report it ha made sever move to transfer global decisionmak and research capabl out of china the strategi isn ' t just aim at tiktok but all of it nonchina focus busi report quot sourc byted expand tiktok ' s engin and rd oper in california\",\n",
       "  'lemmatized': \"tiktok ' s parent company bytedance is planning to ' shift it centre of power away from china ' reuters reported it ha made several move to transfer global decisionmaking and research capability out of china the strategy isn ' t just aimed at tiktok but all of it nonchina focused business report quoted source bytedance expanded tiktok ' s engineering and rd operation in california\",\n",
       "  'clean': \"tiktok ' parent company bytedance planning ' shift centre power away china ' reuters reported ha made several move transfer global decisionmaking research capability china strategy ' aimed tiktok nonchina focused business report quoted source bytedance expanded tiktok ' engineering rd operation california\"},\n",
       " {'title': 'Facebook tests audio-only group call app CatchUp in US',\n",
       "  'author': 'Aishwarya',\n",
       "  'topic': 'technology',\n",
       "  'content': \"Facebook has launched an experimental app, CatchUp, where users can have one-on-one or group voice calls. Users can indicate that they are available to talk and can also call others who are available. It's currently being tested in US for a limited time on iOS and Android. Users can have group calls with up to eight people, media reports said.\",\n",
       "  'date_published': '2020-05-27T16:39:34.000Z',\n",
       "  'page_url': 'https://inshorts.com/en/news/facebook-tests-audioonly-group-call-app-catchup-in-us-1590597574375',\n",
       "  'stemmed': \"facebook ha launch an experiment app catchup where user can have oneonon or group voic call user can indic that they are avail to talk and can also call other who are avail it ' s current be test in us for a limit time on io and android user can have group call with up to eight peopl media report said\",\n",
       "  'lemmatized': \"facebook ha launched an experimental app catchup where user can have oneonone or group voice call user can indicate that they are available to talk and can also call others who are available it ' s currently being tested in u for a limited time on io and android user can have group call with up to eight people medium report said\",\n",
       "  'clean': \"facebook ha launched experimental app catchup user oneonone group voice call user indicate available talk also call others available ' currently tested u limited time io android user group call eight people medium report said\"},\n",
       " {'title': 'Facebook ignored report on users being exposed to divisive content: Report',\n",
       "  'author': 'Aishwarya',\n",
       "  'topic': 'technology',\n",
       "  'content': 'Facebook ignored its own research that warned its \"algorithms exploit human brain\\'s attraction to divisiveness\", The Wall Street Journal reported. Research warned that if left unchecked, it could lead to Facebook feeding users \"more and more divisive content in an effort to gain user attention\". Facebook also decided not to implement any of the recommended changes to sort the issue.',\n",
       "  'date_published': '2020-05-27T17:39:52.000Z',\n",
       "  'page_url': 'https://inshorts.com/en/news/facebook-ignored-report-on-users-being-exposed-to-divisive-content-report-1590601192454',\n",
       "  'stemmed': \"facebook ignor it own research that warn it algorithm exploit human brain ' s attract to divis the wall street journal report research warn that if left uncheck it could lead to facebook feed user more and more divis content in an effort to gain user attent facebook also decid not to implement ani of the recommend chang to sort the issu\",\n",
       "  'lemmatized': \"facebook ignored it own research that warned it algorithm exploit human brain ' s attraction to divisiveness the wall street journal reported research warned that if left unchecked it could lead to facebook feeding user more and more divisive content in an effort to gain user attention facebook also decided not to implement any of the recommended change to sort the issue\",\n",
       "  'clean': \"facebook ignored research warned algorithm exploit human brain ' attraction divisiveness wall street journal reported research warned left unchecked could lead facebook feeding user divisive content effort gain user attention facebook also decided not implement recommended change sort issue\"},\n",
       " {'title': \"'Hack-for-hire' firms in India targeting business leaders: Google\",\n",
       "  'author': 'Aishwarya',\n",
       "  'topic': 'technology',\n",
       "  'content': 'Google\\'s Threat Analysis Group said \"hack-for-hire\" firms, many based in India, have been creating Gmail accounts spoofing the WHO. These accounts have targeted business leaders in financial services, consulting and healthcare corporations in countries including US, Slovenia, Canada, India, Bahrain, Cyprus and UK. They lure individuals by encouraging to sign up for WHO-notifications on COVID-19.',\n",
       "  'date_published': '2020-05-28T12:54:36.000Z',\n",
       "  'page_url': 'https://inshorts.com/en/news/hackforhire-firms-in-india-targeting-business-leaders-google-1590670476776',\n",
       "  'stemmed': \"googl ' s threat analysi group said hackforhir firm mani base in india have been creat gmail account spoof the who these account have target busi leader in financi servic consult and healthcar corpor in countri includ us slovenia canada india bahrain cypru and uk they lure individu by encourag to sign up for whonotif on covid19\",\n",
       "  'lemmatized': \"google ' s threat analysis group said hackforhire firm many based in india have been creating gmail account spoofing the who these account have targeted business leader in financial service consulting and healthcare corporation in country including u slovenia canada india bahrain cyprus and uk they lure individual by encouraging to sign up for whonotifications on covid19\",\n",
       "  'clean': \"google ' threat analysis group said hackforhire firm many based india creating gmail account spoofing account targeted business leader financial service consulting healthcare corporation country including u slovenia canada india bahrain cyprus uk lure individual encouraging sign whonotifications covid19\"},\n",
       " {'title': 'Google faces antitrust investigation in India over Google Pay: Report',\n",
       "  'author': 'Aishwarya',\n",
       "  'topic': 'technology',\n",
       "  'content': 'The Competition Commission of India (CCI) is investigating allegations that Google is abusing its market position to unfairly promote Google Pay, Reuters reported. The complaint against Google said it prominently showcases Google Pay in its Android app store. The complaint was filed in February and the CCI has kept the identity of the complainant confidential, report quoted a source saying.',\n",
       "  'date_published': '2020-05-27T17:30:30.000Z',\n",
       "  'page_url': 'https://inshorts.com/en/news/google-faces-antitrust-investigation-in-india-over-google-pay-report-1590600630061',\n",
       "  'stemmed': 'the competit commiss of india cci is investig alleg that googl is abus it market posit to unfairli promot googl pay reuter report the complaint against googl said it promin showcas googl pay in it android app store the complaint wa file in februari and the cci ha kept the ident of the complain confidenti report quot a sourc say',\n",
       "  'lemmatized': 'the competition commission of india cci is investigating allegation that google is abusing it market position to unfairly promote google pay reuters reported the complaint against google said it prominently showcase google pay in it android app store the complaint wa filed in february and the cci ha kept the identity of the complainant confidential report quoted a source saying',\n",
       "  'clean': 'competition commission india cci investigating allegation google abusing market position unfairly promote google pay reuters reported complaint google said prominently showcase google pay android app store complaint wa filed february cci ha kept identity complainant confidential report quoted source saying'},\n",
       " {'title': \"Twitter adds fact-check to China spokesperson's tweets about COVID-19 origins\",\n",
       "  'author': 'Anushka Dixit',\n",
       "  'topic': 'technology',\n",
       "  'content': 'Twitter has added fact-check warnings to at least two posts by China Foreign Ministry Spokesman Zhao Lijian that spoke about the origins of coronavirus. The tweets were originally posted in March and said that \"it might be US army who brought the epidemic to Wuhan\". This comes a day after Twitter added fact-check warnings to US President Donald Trump\\'s tweets. ',\n",
       "  'date_published': '2020-05-28T09:38:17.000Z',\n",
       "  'page_url': 'https://inshorts.com/en/news/twitter-adds-factcheck-to-china-spokespersons-tweets-about-covid19-origins-1590658697898',\n",
       "  'stemmed': \"twitter ha ad factcheck warn to at least two post by china foreign ministri spokesman zhao lijian that spoke about the origin of coronaviru the tweet were origin post in march and said that it might be us armi who brought the epidem to wuhan thi come a day after twitter ad factcheck warn to us presid donald trump ' s tweet\",\n",
       "  'lemmatized': \"twitter ha added factcheck warning to at least two post by china foreign ministry spokesman zhao lijian that spoke about the origin of coronavirus the tweet were originally posted in march and said that it might be u army who brought the epidemic to wuhan this come a day after twitter added factcheck warning to u president donald trump ' s tweet\",\n",
       "  'clean': \"twitter ha added factcheck warning least two post china foreign ministry spokesman zhao lijian spoke origin coronavirus tweet originally posted march said might u army brought epidemic wuhan come day twitter added factcheck warning u president donald trump ' tweet\"},\n",
       " {'title': \"New WhatsApp scam asking for users' verification codes: Report\",\n",
       "  'author': 'Aishwarya',\n",
       "  'topic': 'technology',\n",
       "  'content': \"A WhatsApp scam has surfaced in which an account claiming to be an official point of contact for WhatsApp's technical staff is asking users to share their verification keys. It was highlighted by WhatsApp features tracker WABetaInfo. WABetaInfo clarified that an official WhatsApp chat comes with a green verified indicator and users can't reply to it. \",\n",
       "  'date_published': '2020-05-28T12:56:04.000Z',\n",
       "  'page_url': 'https://inshorts.com/en/news/new-whatsapp-scam-asking-for-users-verification-codes-report-1590670564918',\n",
       "  'stemmed': \"a whatsapp scam ha surfac in which an account claim to be an offici point of contact for whatsapp ' s technic staff is ask user to share their verif key it wa highlight by whatsapp featur tracker wabetainfo wabetainfo clarifi that an offici whatsapp chat come with a green verifi indic and user can ' t repli to it\",\n",
       "  'lemmatized': \"a whatsapp scam ha surfaced in which an account claiming to be an official point of contact for whatsapp ' s technical staff is asking user to share their verification key it wa highlighted by whatsapp feature tracker wabetainfo wabetainfo clarified that an official whatsapp chat come with a green verified indicator and user can ' t reply to it\",\n",
       "  'clean': \"whatsapp scam ha surfaced account claiming official point contact whatsapp ' technical staff asking user share verification key wa highlighted whatsapp feature tracker wabetainfo wabetainfo clarified official whatsapp chat come green verified indicator user ' reply\"},\n",
       " {'title': 'Arizona sues Google claiming it illegally tracked Android users',\n",
       "  'author': 'Aishwarya',\n",
       "  'topic': 'technology',\n",
       "  'content': \"US State of Arizona sued Google claiming it illegally tracked Android users' location without consent and even after they disabled location tracking features. The lawsuit alleged Google kept location tracking running in the background for certain features, like weather and web searches even if users turned it off. It argued Google made it too complicated to completely disable tracking.\",\n",
       "  'date_published': '2020-05-28T11:30:28.000Z',\n",
       "  'page_url': 'https://inshorts.com/en/news/arizona-sues-google-claiming-it-illegally-tracked-android-users-1590665428632',\n",
       "  'stemmed': \"us state of arizona su googl claim it illeg track android user ' locat without consent and even after they disabl locat track featur the lawsuit alleg googl kept locat track run in the background for certain featur like weather and web search even if user turn it off it argu googl made it too complic to complet disabl track\",\n",
       "  'lemmatized': \"u state of arizona sued google claiming it illegally tracked android user ' location without consent and even after they disabled location tracking feature the lawsuit alleged google kept location tracking running in the background for certain feature like weather and web search even if user turned it off it argued google made it too complicated to completely disable tracking\",\n",
       "  'clean': \"u state arizona sued google claiming illegally tracked android user ' location without consent even disabled location tracking feature lawsuit alleged google kept location tracking running background certain feature like weather web search even user turned argued google made complicated completely disable tracking\"},\n",
       " {'title': 'Apple buys machine learning startup Inductiv',\n",
       "  'author': 'Aishwarya',\n",
       "  'topic': 'technology',\n",
       "  'content': \"Apple has bought Ontario-based machine learning startup that uses AI to correct data. Inductiv's engineering team joined Apple in recent weeks to work on Siri, machine learning and data science, Bloomberg reported. Earlier in April, Apple had acquired Ireland-based artificial intelligence startup Voysis which helps digital voice assistants understand people's natural language better.\",\n",
       "  'date_published': '2020-05-28T11:31:32.000Z',\n",
       "  'page_url': 'https://inshorts.com/en/news/apple-buys-machine-learning-startup-inductiv-1590665492092',\n",
       "  'stemmed': \"appl ha bought ontariobas machin learn startup that use ai to correct data inductiv ' s engin team join appl in recent week to work on siri machin learn and data scienc bloomberg report earlier in april appl had acquir irelandbas artifici intellig startup voysi which help digit voic assist understand peopl ' s natur languag better\",\n",
       "  'lemmatized': \"apple ha bought ontariobased machine learning startup that us ai to correct data inductiv ' s engineering team joined apple in recent week to work on siri machine learning and data science bloomberg reported earlier in april apple had acquired irelandbased artificial intelligence startup voysis which help digital voice assistant understand people ' s natural language better\",\n",
       "  'clean': \"apple ha bought ontariobased machine learning startup us ai correct data inductiv ' engineering team joined apple recent week work siri machine learning data science bloomberg reported earlier april apple acquired irelandbased artificial intelligence startup voysis help digital voice assistant understand people ' natural language better\"},\n",
       " {'title': \"World's top firms including Apple, Boeing borrowed $1 tn in 5 months: Report\",\n",
       "  'author': 'Anushka Dixit',\n",
       "  'topic': 'technology',\n",
       "  'content': 'Companies including Apple, Oracle and Boeing have collectively borrowed $1 trillion in five months, the Financial Times reported. Oracle borrowed the maximum amount totalling to $25 billion, followed by Boeing at $20 billion and AT&T at $12.5 billion. Apple had raised around $8.5 billion earlier by selling four different bonds after the Federal Reserve cut borrowing costs to almost zero. ',\n",
       "  'date_published': '2020-05-28T16:24:08.000Z',\n",
       "  'page_url': 'https://inshorts.com/en/news/worlds-top-firms-including-apple-boeing-borrowed-$1-tn-in-5-months-report-1590683048959',\n",
       "  'stemmed': 'compani includ appl oracl and boe have collect borrow 1 trillion in five month the financi time report oracl borrow the maximum amount total to 25 billion follow by boe at 20 billion and att at 125 billion appl had rais around 85 billion earlier by sell four differ bond after the feder reserv cut borrow cost to almost zero',\n",
       "  'lemmatized': 'company including apple oracle and boeing have collectively borrowed 1 trillion in five month the financial time reported oracle borrowed the maximum amount totalling to 25 billion followed by boeing at 20 billion and att at 125 billion apple had raised around 85 billion earlier by selling four different bond after the federal reserve cut borrowing cost to almost zero',\n",
       "  'clean': 'company including apple oracle boeing collectively borrowed 1 trillion five month financial time reported oracle borrowed maximum amount totalling 25 billion followed boeing 20 billion att 125 billion apple raised around 85 billion earlier selling four different bond federal reserve cut borrowing cost almost zero'},\n",
       " {'title': 'Pablo Escobar’s brother sells refurbished gold-plated iPhone 11 Pros for $499',\n",
       "  'author': 'Anushka Dixit',\n",
       "  'topic': 'technology',\n",
       "  'content': 'Pablo Escobar\\'s brother Roberto Escobar has started selling limited-run \"refurbished\" iPhone 11 Pros with 24K gold plating for $499 after he sued Apple for $2.6 billion when his iPhone was allegedly hacked. \"It\\'s my way of fighting Apple...mine are gold-plated with nice girls showing them off,\" he said. The iPhones come with a luxury wooden box, headphones and charger.',\n",
       "  'date_published': '2020-05-28T17:04:50.000Z',\n",
       "  'page_url': 'https://inshorts.com/en/news/pablo-escobars-brother-sells-refurbished-goldplated-iphone-11-pros-for-$499-1590685490447',\n",
       "  'stemmed': \"pablo escobar ' s brother roberto escobar ha start sell limitedrun refurbish iphon 11 pro with 24k gold plate for 499 after he su appl for 26 billion when hi iphon wa allegedli hack it ' s my way of fight applemin are goldplat with nice girl show them off he said the iphon come with a luxuri wooden box headphon and charger\",\n",
       "  'lemmatized': \"pablo escobar ' s brother roberto escobar ha started selling limitedrun refurbished iphone 11 pro with 24k gold plating for 499 after he sued apple for 26 billion when his iphone wa allegedly hacked it ' s my way of fighting applemine are goldplated with nice girl showing them off he said the iphones come with a luxury wooden box headphone and charger\",\n",
       "  'clean': \"pablo escobar ' brother roberto escobar ha started selling limitedrun refurbished iphone 11 pro 24k gold plating 499 sued apple 26 billion iphone wa allegedly hacked ' way fighting applemine goldplated nice girl showing said iphones come luxury wooden box headphone charger\"},\n",
       " {'title': \"Facebook tests video-based music-making app 'Collab' for iOS users\",\n",
       "  'author': 'Aishwarya',\n",
       "  'topic': 'technology',\n",
       "  'content': 'Facebook has launched an experimental iOS app, Collab, where users can create, watch and mix and match original videos to make music. The app will let users combine three different videos and the collab can be shared on any other platform. Facebook has launched Collab as invite-only beta and has asked users to sign up for waitlist to request access.',\n",
       "  'date_published': '2020-05-28T10:21:28.000Z',\n",
       "  'page_url': 'https://inshorts.com/en/news/facebook-tests-videobased-musicmaking-app-collab-for-ios-users-1590661288146',\n",
       "  'stemmed': 'facebook ha launch an experiment io app collab where user can creat watch and mix and match origin video to make music the app will let user combin three differ video and the collab can be share on ani other platform facebook ha launch collab as inviteonli beta and ha ask user to sign up for waitlist to request access',\n",
       "  'lemmatized': 'facebook ha launched an experimental io app collab where user can create watch and mix and match original video to make music the app will let user combine three different video and the collab can be shared on any other platform facebook ha launched collab a inviteonly beta and ha asked user to sign up for waitlist to request access',\n",
       "  'clean': 'facebook ha launched experimental io app collab user create watch mix match original video make music app let user combine three different video collab shared platform facebook ha launched collab inviteonly beta ha asked user sign waitlist request access'},\n",
       " {'title': 'Researchers claim to create first 3D map of neurons in a rat’s heart',\n",
       "  'author': 'Aishwarya',\n",
       "  'topic': 'technology',\n",
       "  'content': 'Researchers at Thomas Jefferson University and their collaborators claim they\\'ve developed the first 3D map of the intracardiac nervous system (ICN) or \"little brain\" of a rat\\'s heart. It revealed the so far \"unknown complexity of ICN\". Researchers found the location of neurons and sex-specific differences in the way neurons were organised, both spatially and by genders\\' gene expression.',\n",
       "  'date_published': '2020-05-28T17:36:51.000Z',\n",
       "  'page_url': 'https://inshorts.com/en/news/researchers-claim-to-create-first-3d-map-of-neurons-in-a-rats-heart-1590687411478',\n",
       "  'stemmed': \"research at thoma jefferson univers and their collabor claim they ' ve develop the first 3d map of the intracardiac nervou system icn or littl brain of a rat ' s heart it reveal the so far unknown complex of icn research found the locat of neuron and sexspecif differ in the way neuron were organis both spatial and by gender ' gene express\",\n",
       "  'lemmatized': \"researcher at thomas jefferson university and their collaborator claim they ' ve developed the first 3d map of the intracardiac nervous system icn or little brain of a rat ' s heart it revealed the so far unknown complexity of icn researcher found the location of neuron and sexspecific difference in the way neuron were organised both spatially and by gender ' gene expression\",\n",
       "  'clean': \"researcher thomas jefferson university collaborator claim ' developed first 3d map intracardiac nervous system icn little brain rat ' heart revealed far unknown complexity icn researcher found location neuron sexspecific difference way neuron organised spatially gender ' gene expression\"}]"
      ]
     },
     "execution_count": 75,
     "metadata": {},
     "output_type": "execute_result"
    }
   ],
   "source": [
    "new_inshorts"
   ]
  },
  {
   "cell_type": "markdown",
   "metadata": {},
   "source": [
    "Everything seems to be working accordingly!"
   ]
  }
 ],
 "metadata": {
  "kernelspec": {
   "display_name": "Python 3",
   "language": "python",
   "name": "python3"
  },
  "language_info": {
   "codemirror_mode": {
    "name": "ipython",
    "version": 3
   },
   "file_extension": ".py",
   "mimetype": "text/x-python",
   "name": "python",
   "nbconvert_exporter": "python",
   "pygments_lexer": "ipython3",
   "version": "3.7.4"
  }
 },
 "nbformat": 4,
 "nbformat_minor": 2
}
