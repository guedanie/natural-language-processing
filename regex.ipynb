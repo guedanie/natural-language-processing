{
 "cells": [
  {
   "cell_type": "markdown",
   "metadata": {},
   "source": [
    "# Regex Exercises"
   ]
  },
  {
   "cell_type": "markdown",
   "metadata": {},
   "source": [
    "# 1. Write a function named is_vowel. \n",
    "\n",
    "It should accept a string as input and use a regular expression to determine if the passed string is a vowel. While not explicity mentioned in the lesson, you can treat the result of re.search as a boolean value that indicates whether or not the regular expression matches the given string."
   ]
  },
  {
   "cell_type": "code",
   "execution_count": 321,
   "metadata": {},
   "outputs": [],
   "source": [
    "import re\n",
    "import pandas as pd\n",
    "import numpy as np"
   ]
  },
  {
   "cell_type": "code",
   "execution_count": 84,
   "metadata": {},
   "outputs": [],
   "source": [
    "def is_vowel(character):\n",
    "    result = re.findall(r\"[aeoiu]\", character)\n",
    "    if len(result) == 0:\n",
    "        print(\"That character has no vowels\")\n",
    "    else:\n",
    "        print(\"That character has vowels\")\n",
    "        print(f\"The characters that are vowels is/are: {result}\")"
   ]
  },
  {
   "cell_type": "code",
   "execution_count": 88,
   "metadata": {},
   "outputs": [
    {
     "name": "stdout",
     "output_type": "stream",
     "text": [
      "That character has vowels\n",
      "The characters that are vowels is/are: ['a', 'e']\n"
     ]
    }
   ],
   "source": [
    "is_vowel(\"aeSfgxhcjv\")"
   ]
  },
  {
   "cell_type": "markdown",
   "metadata": {},
   "source": [
    "## 2. Write a function named is_valid_username that accepts a string as input. \n",
    "\n",
    "A valid username starts with a lowercase letter, and only consists of lowercase letters, numbers, or the _ character. It should also be no longer than 32 characters. The function should return either True or False depending on whether the passed string is a valid username."
   ]
  },
  {
   "cell_type": "code",
   "execution_count": 154,
   "metadata": {},
   "outputs": [],
   "source": [
    "user_name = \"1code1up\""
   ]
  },
  {
   "cell_type": "code",
   "execution_count": 131,
   "metadata": {},
   "outputs": [
    {
     "data": {
      "text/plain": [
       "1"
      ]
     },
     "execution_count": 131,
     "metadata": {},
     "output_type": "execute_result"
    }
   ],
   "source": [
    "start_user_name = re.findall(r\"^[^a-z]\", user_name)\n",
    "len(start_user_name)"
   ]
  },
  {
   "cell_type": "code",
   "execution_count": 112,
   "metadata": {},
   "outputs": [
    {
     "data": {
      "text/plain": [
       "['D']"
      ]
     },
     "execution_count": 112,
     "metadata": {},
     "output_type": "execute_result"
    }
   ],
   "source": [
    "is_character_ok = re.findall(r\"[^a-z\\d_]\", user_name)\n",
    "is_character_ok"
   ]
  },
  {
   "cell_type": "code",
   "execution_count": 140,
   "metadata": {},
   "outputs": [],
   "source": [
    "def is_valid_username(user_name):\n",
    "    start_user_name = re.findall(r\"^[^a-z]\", user_name)\n",
    "    is_character_ok = re.findall(r\"[^a-z\\d_]\", user_name)\n",
    "    if len(user_name) > 32:\n",
    "        print(\"Max size for user name is 32 characters. Please make it shorter\")\n",
    "    elif len(start_user_name) != 0:\n",
    "        print(\"Invalid username, please start with a lowercase letter\")\n",
    "    elif len(is_character_ok) != 0:\n",
    "        print(\"Invalid username, please only use lowercase letters\")\n",
    "    else:\n",
    "        print(\"This is a valid username\")"
   ]
  },
  {
   "cell_type": "code",
   "execution_count": 141,
   "metadata": {},
   "outputs": [
    {
     "name": "stdout",
     "output_type": "stream",
     "text": [
      "Max size for user name is 32 characters. Please make it shorter\n"
     ]
    }
   ],
   "source": [
    "is_valid_username('aaaaaaaaaaaaaaaaaaaaaaaaaaaaaaaaa')"
   ]
  },
  {
   "cell_type": "code",
   "execution_count": 142,
   "metadata": {},
   "outputs": [
    {
     "name": "stdout",
     "output_type": "stream",
     "text": [
      "This is a valid username\n"
     ]
    }
   ],
   "source": [
    "is_valid_username('codeup')"
   ]
  },
  {
   "cell_type": "code",
   "execution_count": 143,
   "metadata": {},
   "outputs": [
    {
     "name": "stdout",
     "output_type": "stream",
     "text": [
      "Invalid username, please start with a lowercase letter\n"
     ]
    }
   ],
   "source": [
    "is_valid_username('Codeup')"
   ]
  },
  {
   "cell_type": "code",
   "execution_count": 144,
   "metadata": {},
   "outputs": [
    {
     "name": "stdout",
     "output_type": "stream",
     "text": [
      "This is a valid username\n"
     ]
    }
   ],
   "source": [
    "is_valid_username('codeup123')"
   ]
  },
  {
   "cell_type": "code",
   "execution_count": 145,
   "metadata": {},
   "outputs": [
    {
     "name": "stdout",
     "output_type": "stream",
     "text": [
      "Invalid username, please start with a lowercase letter\n"
     ]
    }
   ],
   "source": [
    "is_valid_username('1codeup')"
   ]
  },
  {
   "cell_type": "markdown",
   "metadata": {},
   "source": [
    "## 3. Write a regular expression to capture phone numbers. It should match all of the following:"
   ]
  },
  {
   "cell_type": "code",
   "execution_count": 410,
   "metadata": {},
   "outputs": [],
   "source": [
    "phone = \"my phone number is (210) 867 5309, +1 210.867.5309, 867-5309, 210-867-5309\""
   ]
  },
  {
   "cell_type": "code",
   "execution_count": 407,
   "metadata": {},
   "outputs": [],
   "source": [
    "phone_number = \"My phone number is 210-867-5309, in the UK it was +44 886 44551 0077\""
   ]
  },
  {
   "cell_type": "code",
   "execution_count": 609,
   "metadata": {
    "scrolled": true
   },
   "outputs": [
    {
     "data": {
      "text/plain": [
       "['210-867-5309', '+44 886 44551 0077']"
      ]
     },
     "execution_count": 609,
     "metadata": {},
     "output_type": "execute_result"
    }
   ],
   "source": [
    "rx = r\"\\+?\\d+?(?:[- ]+\\d+)+\"\n",
    "re.findall(rx, phone_number)"
   ]
  },
  {
   "cell_type": "code",
   "execution_count": 666,
   "metadata": {
    "scrolled": true
   },
   "outputs": [
    {
     "data": {
      "text/plain": [
       "['(210) 867 5309', '210.867.5309', '867-5309', '210-867-5309']"
      ]
     },
     "execution_count": 666,
     "metadata": {},
     "output_type": "execute_result"
    }
   ],
   "source": [
    "re.findall(r\"(\\d{3}[-\\.\\s]??\\d{3}[-\\.\\s]??\\d{4}|\\(\\d{3}\\)\\s*\\d{3}[-\\.\\s]??\\d{4}|\\d{3}[-\\.\\s]??\\d{4})\", phone)"
   ]
  },
  {
   "cell_type": "markdown",
   "metadata": {},
   "source": [
    "### 4. Use regular expressions to convert the dates below to the standardized year-month-day format."
   ]
  },
  {
   "cell_type": "code",
   "execution_count": 314,
   "metadata": {},
   "outputs": [],
   "source": [
    "dates = [\"02/04/19\", \"02/05/19\", \"02/06/19\", \"02/07/19\", \"02/08/19\", \"02/09/19\", \"02/10/19\"]"
   ]
  },
  {
   "cell_type": "code",
   "execution_count": 316,
   "metadata": {},
   "outputs": [
    {
     "name": "stdout",
     "output_type": "stream",
     "text": [
      "2019-04-02\n",
      "2019-05-02\n",
      "2019-06-02\n",
      "2019-07-02\n",
      "2019-08-02\n",
      "2019-09-02\n",
      "2019-10-02\n"
     ]
    }
   ],
   "source": [
    "for i in dates:\n",
    "    new_date = re.sub(r\"(\\d{2})/(\\d{2})/(\\d{2})\", r\"20\\3-\\2-\\1\", i)\n",
    "    print(new_date)"
   ]
  },
  {
   "cell_type": "markdown",
   "metadata": {},
   "source": [
    "### 5. Write a regex to extract the various parts of these logfile lines:"
   ]
  },
  {
   "cell_type": "code",
   "execution_count": 318,
   "metadata": {},
   "outputs": [],
   "source": [
    "line = 'GET /api/v1/sales?page=86 [16/Apr/2019:193452+0000] HTTP/1.1 {200} 510348 \"python-requests/2.21.0\" 97.105.19.58'"
   ]
  },
  {
   "cell_type": "code",
   "execution_count": 437,
   "metadata": {},
   "outputs": [],
   "source": [
    "regex = '''\n",
    "^\n",
    "(?P<type_request>GET)\n",
    "\\s\n",
    "(?P<destination>.+?)\n",
    "\\s\n",
    "\\[\n",
    "(?P<date>.+)\n",
    "\\]\n",
    "\\s\n",
    "(?P<request_info>.+?)\n",
    "\\s\n",
    "\\{\n",
    "(?P<status>.+?)\n",
    "\\}\n",
    "\\s\n",
    "\\d+\n",
    "\\s\n",
    "\\\"\n",
    "?(?P<request_number>.+)\n",
    "\\\"\n",
    "\\s\n",
    "(?P<ip>.+)\n",
    "\n",
    "'''"
   ]
  },
  {
   "cell_type": "code",
   "execution_count": 438,
   "metadata": {
    "scrolled": true
   },
   "outputs": [
    {
     "data": {
      "text/html": [
       "<div>\n",
       "<style scoped>\n",
       "    .dataframe tbody tr th:only-of-type {\n",
       "        vertical-align: middle;\n",
       "    }\n",
       "\n",
       "    .dataframe tbody tr th {\n",
       "        vertical-align: top;\n",
       "    }\n",
       "\n",
       "    .dataframe thead th {\n",
       "        text-align: right;\n",
       "    }\n",
       "</style>\n",
       "<table border=\"1\" class=\"dataframe\">\n",
       "  <thead>\n",
       "    <tr style=\"text-align: right;\">\n",
       "      <th></th>\n",
       "      <th>type_request</th>\n",
       "      <th>destination</th>\n",
       "      <th>date</th>\n",
       "      <th>request_info</th>\n",
       "      <th>status</th>\n",
       "      <th>request_number</th>\n",
       "      <th>ip</th>\n",
       "    </tr>\n",
       "  </thead>\n",
       "  <tbody>\n",
       "    <tr>\n",
       "      <th>0</th>\n",
       "      <td>GET</td>\n",
       "      <td>/api/v1/sales?page=86</td>\n",
       "      <td>16/Apr/2019:193452+0000</td>\n",
       "      <td>HTTP/1.1</td>\n",
       "      <td>200</td>\n",
       "      <td>python-requests/2.21.0</td>\n",
       "      <td>97.105.19.58</td>\n",
       "    </tr>\n",
       "  </tbody>\n",
       "</table>\n",
       "</div>"
      ],
      "text/plain": [
       "  type_request            destination                     date request_info  \\\n",
       "0          GET  /api/v1/sales?page=86  16/Apr/2019:193452+0000     HTTP/1.1   \n",
       "\n",
       "  status          request_number            ip  \n",
       "0    200  python-requests/2.21.0  97.105.19.58  "
      ]
     },
     "execution_count": 438,
     "metadata": {},
     "output_type": "execute_result"
    }
   ],
   "source": [
    "pd.Series(line).str.extract(regex, re.VERBOSE)"
   ]
  },
  {
   "cell_type": "code",
   "execution_count": 433,
   "metadata": {},
   "outputs": [],
   "source": [
    "access_logs = '''\n",
    "GET /api/v1/sales?page=86 [16/Apr/2019:193452+0000] HTTP/1.1 {200} 510348 \"python-requests/2.21.0\" 97.105.19.58\n",
    "POST /users_accounts/file-upload [16/Apr/2019:193452+0000] HTTP/1.1 {201} 42 \"User-Agent: Mozilla/5.0 (X11; Fedora; Fedora; Linux x86_64) AppleWebKit/537.36 (KHTML, like Gecko) Chrome/73.0.3683.86 Safari/537.36\" 97.105.19.58\n",
    "GET /api/v1/items?page=3 [16/Apr/2019:193453+0000] HTTP/1.1 {429} 3561 \"python-requests/2.21.0\" 97.105.19.58\n",
    "'''"
   ]
  },
  {
   "cell_type": "code",
   "execution_count": 434,
   "metadata": {},
   "outputs": [],
   "source": [
    "lines = pd.Series(access_logs.strip().split(\"\\n\"))"
   ]
  },
  {
   "cell_type": "code",
   "execution_count": 435,
   "metadata": {
    "scrolled": true
   },
   "outputs": [
    {
     "data": {
      "text/plain": [
       "0    GET /api/v1/sales?page=86 [16/Apr/2019:193452+...\n",
       "1    POST /users_accounts/file-upload [16/Apr/2019:...\n",
       "2    GET /api/v1/items?page=3 [16/Apr/2019:193453+0...\n",
       "dtype: object"
      ]
     },
     "execution_count": 435,
     "metadata": {},
     "output_type": "execute_result"
    }
   ],
   "source": [
    "lines"
   ]
  },
  {
   "cell_type": "code",
   "execution_count": 447,
   "metadata": {},
   "outputs": [],
   "source": [
    "regex = '''\n",
    "^\n",
    "(?P<type_request>\\w{3,4})\n",
    "\\s\n",
    "(?P<destination>.+?)\n",
    "\\s\n",
    "\\[\n",
    "(?P<date>.+)\n",
    "\\]\n",
    "\\s\n",
    "(?P<request_info>.+?)\n",
    "\\s\n",
    "\\{\n",
    "(?P<status>.+?)\n",
    "\\}\n",
    "\\s\n",
    "\\d+\n",
    "\\s\n",
    "\\\"\n",
    "?(?P<request_number>.+)\n",
    "\\\"\n",
    "\\s\n",
    "(?P<ip>.+)\n",
    "\n",
    "'''"
   ]
  },
  {
   "cell_type": "code",
   "execution_count": 448,
   "metadata": {
    "scrolled": true
   },
   "outputs": [
    {
     "data": {
      "text/html": [
       "<div>\n",
       "<style scoped>\n",
       "    .dataframe tbody tr th:only-of-type {\n",
       "        vertical-align: middle;\n",
       "    }\n",
       "\n",
       "    .dataframe tbody tr th {\n",
       "        vertical-align: top;\n",
       "    }\n",
       "\n",
       "    .dataframe thead th {\n",
       "        text-align: right;\n",
       "    }\n",
       "</style>\n",
       "<table border=\"1\" class=\"dataframe\">\n",
       "  <thead>\n",
       "    <tr style=\"text-align: right;\">\n",
       "      <th></th>\n",
       "      <th>type_request</th>\n",
       "      <th>destination</th>\n",
       "      <th>date</th>\n",
       "      <th>request_info</th>\n",
       "      <th>status</th>\n",
       "      <th>request_number</th>\n",
       "      <th>ip</th>\n",
       "    </tr>\n",
       "  </thead>\n",
       "  <tbody>\n",
       "    <tr>\n",
       "      <th>0</th>\n",
       "      <td>GET</td>\n",
       "      <td>/api/v1/sales?page=86</td>\n",
       "      <td>16/Apr/2019:193452+0000</td>\n",
       "      <td>HTTP/1.1</td>\n",
       "      <td>200</td>\n",
       "      <td>python-requests/2.21.0</td>\n",
       "      <td>97.105.19.58</td>\n",
       "    </tr>\n",
       "    <tr>\n",
       "      <th>1</th>\n",
       "      <td>POST</td>\n",
       "      <td>/users_accounts/file-upload</td>\n",
       "      <td>16/Apr/2019:193452+0000</td>\n",
       "      <td>HTTP/1.1</td>\n",
       "      <td>201</td>\n",
       "      <td>User-Agent: Mozilla/5.0 (X11; Fedora; Fedora; ...</td>\n",
       "      <td>97.105.19.58</td>\n",
       "    </tr>\n",
       "    <tr>\n",
       "      <th>2</th>\n",
       "      <td>GET</td>\n",
       "      <td>/api/v1/items?page=3</td>\n",
       "      <td>16/Apr/2019:193453+0000</td>\n",
       "      <td>HTTP/1.1</td>\n",
       "      <td>429</td>\n",
       "      <td>python-requests/2.21.0</td>\n",
       "      <td>97.105.19.58</td>\n",
       "    </tr>\n",
       "  </tbody>\n",
       "</table>\n",
       "</div>"
      ],
      "text/plain": [
       "  type_request                  destination                     date  \\\n",
       "0          GET        /api/v1/sales?page=86  16/Apr/2019:193452+0000   \n",
       "1         POST  /users_accounts/file-upload  16/Apr/2019:193452+0000   \n",
       "2          GET         /api/v1/items?page=3  16/Apr/2019:193453+0000   \n",
       "\n",
       "  request_info status                                     request_number  \\\n",
       "0     HTTP/1.1    200                             python-requests/2.21.0   \n",
       "1     HTTP/1.1    201  User-Agent: Mozilla/5.0 (X11; Fedora; Fedora; ...   \n",
       "2     HTTP/1.1    429                             python-requests/2.21.0   \n",
       "\n",
       "             ip  \n",
       "0  97.105.19.58  \n",
       "1  97.105.19.58  \n",
       "2  97.105.19.58  "
      ]
     },
     "execution_count": 448,
     "metadata": {},
     "output_type": "execute_result"
    }
   ],
   "source": [
    "pd.Series(lines).str.extract(regex, re.VERBOSE)"
   ]
  },
  {
   "cell_type": "markdown",
   "metadata": {},
   "source": [
    "### 6.You can find a list of words on your mac at /usr/share/dict/words. \n",
    "\n",
    "Use this file to answer the following questions:"
   ]
  },
  {
   "cell_type": "code",
   "execution_count": 449,
   "metadata": {},
   "outputs": [],
   "source": [
    "with open('/usr/share/dict/words') as f:\n",
    "    words = f.read().split('\\n')"
   ]
  },
  {
   "cell_type": "code",
   "execution_count": 452,
   "metadata": {},
   "outputs": [],
   "source": [
    "df = pd.Series(words)"
   ]
  },
  {
   "cell_type": "markdown",
   "metadata": {},
   "source": [
    "### How many words have at least 3 vowels?"
   ]
  },
  {
   "cell_type": "code",
   "execution_count": 463,
   "metadata": {},
   "outputs": [
    {
     "name": "stdout",
     "output_type": "stream",
     "text": [
      "There are 106,382 words with at least 3 vowels\n"
     ]
    }
   ],
   "source": [
    "counter = 0\n",
    "for i in words:\n",
    "    vowels = re.findall(r\"[aeoiu]\", i)\n",
    "    if len(vowels) <= 3:\n",
    "        counter += 1\n",
    "print(f\"There are {counter:,} words with at least 3 vowels\")"
   ]
  },
  {
   "cell_type": "markdown",
   "metadata": {},
   "source": [
    "### How many words have at least 3 vowels in a row?"
   ]
  },
  {
   "cell_type": "code",
   "execution_count": 496,
   "metadata": {},
   "outputs": [
    {
     "name": "stdout",
     "output_type": "stream",
     "text": [
      "There are 6,156 with at least 3 vowels in a row\n"
     ]
    }
   ],
   "source": [
    "counter = 0\n",
    "for i in words:\n",
    "    vowels = re.findall(r\"[aieou]{3,}\", i)\n",
    "    if len(vowels) > 0:\n",
    "        counter += 1\n",
    "print(f\"There are {counter:,} with at least 3 vowels in a row\")"
   ]
  },
  {
   "cell_type": "markdown",
   "metadata": {},
   "source": [
    "### How many words have at least 4 consonants in a row?"
   ]
  },
  {
   "cell_type": "code",
   "execution_count": 507,
   "metadata": {},
   "outputs": [
    {
     "name": "stdout",
     "output_type": "stream",
     "text": [
      "There are 75,652 with at least 3 consonants in a row\n"
     ]
    }
   ],
   "source": [
    "counter = 0\n",
    "for i in words:\n",
    "    vowels = re.findall(r\"[^aieou]{3,}\", i)\n",
    "    if len(vowels) > 0:\n",
    "        counter += 1\n",
    "print(f\"There are {counter:,} with at least 3 consonants in a row\")"
   ]
  },
  {
   "cell_type": "markdown",
   "metadata": {},
   "source": [
    "### How many words start and end with the same letter?"
   ]
  },
  {
   "cell_type": "code",
   "execution_count": 529,
   "metadata": {},
   "outputs": [
    {
     "name": "stdout",
     "output_type": "stream",
     "text": [
      "There are 9,970 that start and end on the same letter\n"
     ]
    }
   ],
   "source": [
    "counter = 0\n",
    "for i in words:\n",
    "    start = re.findall(r\"^\\w\", i)\n",
    "    end = re.findall(r\"\\w$\", i)\n",
    "    if start == end:\n",
    "        counter += 1\n",
    "print(f\"There are {counter:,} that start and end on the same letter\")"
   ]
  },
  {
   "cell_type": "markdown",
   "metadata": {},
   "source": [
    "### How many words start and end with a vowel?"
   ]
  },
  {
   "cell_type": "code",
   "execution_count": 555,
   "metadata": {},
   "outputs": [
    {
     "name": "stdout",
     "output_type": "stream",
     "text": [
      "There are 235,887 that start and end with a vowel\n"
     ]
    }
   ],
   "source": [
    "counter = 0\n",
    "for i in words:\n",
    "    start = re.findall(r\"^[aeiou]\", test)\n",
    "    end = re.findall(r\"[aeiou]$\", test)\n",
    "    if len(start) == 1 and len(end) == 1:\n",
    "        counter += 1\n",
    "\n",
    "print(f\"There are {counter:,} that start and end with a vowel\")    "
   ]
  },
  {
   "cell_type": "markdown",
   "metadata": {},
   "source": [
    "### How many words contain the same letter 3 times in a row?"
   ]
  },
  {
   "cell_type": "code",
   "execution_count": 601,
   "metadata": {},
   "outputs": [
    {
     "name": "stdout",
     "output_type": "stream",
     "text": [
      "There are 7 words that contain the same letter 3 times in a row\n"
     ]
    }
   ],
   "source": [
    "counter = 0\n",
    "for i in words:\n",
    "    letters = re.findall(r\"(\\w)\\1\\1\", i)\n",
    "    if len(letters) > 0:\n",
    "        counter += 1\n",
    "print(f\"There are {counter:,} words that contain the same letter 3 times in a row\")"
   ]
  }
 ],
 "metadata": {
  "kernelspec": {
   "display_name": "Python 3",
   "language": "python",
   "name": "python3"
  },
  "language_info": {
   "codemirror_mode": {
    "name": "ipython",
    "version": 3
   },
   "file_extension": ".py",
   "mimetype": "text/x-python",
   "name": "python",
   "nbconvert_exporter": "python",
   "pygments_lexer": "ipython3",
   "version": "3.7.4"
  }
 },
 "nbformat": 4,
 "nbformat_minor": 2
}
