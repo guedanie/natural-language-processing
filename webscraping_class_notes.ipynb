{
 "cells": [
  {
   "cell_type": "markdown",
   "metadata": {},
   "source": [
    "Acquire Data Through Web Scraping"
   ]
  },
  {
   "cell_type": "markdown",
   "metadata": {},
   "source": [
    "Whtne the data you need is not accesssible through CSVs, APIs SQL or other types.\n",
    "\n",
    "At a high level, we'll go about web scraping through this process:\n",
    "\n",
    "1. Manually explore the site in a web browser, and identify the relevant HTML elements\n",
    "1. Use the `requests` modelule to obtain the HTML from the page\n",
    "1. Use `BeautifulSoup` to parse the HTML and obtain te text / data that we want. \n",
    "1. Scrip the process of requesting another page and parsing the data from it as well. \n",
    "1. Take this data further down the data science pipeline. \n",
    "\n",
    "**Steps**\n",
    "\n",
    "1. Import the `get()` function from the requests modeule, BeautifulSoup from bs4 and pandas. \n",
    "1. Assign the address of the web page to a variable named url\n",
    "1. Request the server the content of the web page by using `get()`, and store the server's response in the variable response. \n",
    "1. Print the response text to ensure you have an html page. \n",
    "1. Take a look at the actual web page contents and inspect the source to understand the structure a bit\n",
    "1. Use `BeautifulSoup` to parse the HTML into a variable ('soup')\n",
    "1. Identify the key tags you need to extract the data you are looking for. \n",
    "1. Create a dataframe of the data desired\n",
    "1. Run some summary stats and inspect the data to ensure you have what you wanted. \n",
    "1. Edit the data structure as needed, especially so that one column has all thetext you want included in this analysis\n",
    "1. Create a corpus of the column with the text you want to analize\n",
    "1. Store that corpus for use in a future notebook\n"
   ]
  },
  {
   "cell_type": "code",
   "execution_count": 1,
   "metadata": {},
   "outputs": [],
   "source": [
    "from requests import get\n",
    "from bs4 import BeautifulSoup\n",
    "import os\n",
    "\n",
    "import seaborn as sns\n",
    "import matplotlib.pyplot as plt"
   ]
  },
  {
   "cell_type": "code",
   "execution_count": 2,
   "metadata": {},
   "outputs": [],
   "source": [
    "# We will look at an article from Codeup's blog\n",
    "\n",
    "url = 'https://codeup.com/codeups-data-science-career-accelerator-is-here/'\n",
    "headers = {'User-Agent': 'Codeup Bayes Data Science'} # codeup.com doesn't like our default user-agent\n",
    "response = get(url, headers=headers)"
   ]
  },
  {
   "cell_type": "markdown",
   "metadata": {},
   "source": [
    "After making the request, we'll perform a quick sanity check to make sure what we are looking at is indeed HTML data."
   ]
  },
  {
   "cell_type": "code",
   "execution_count": 3,
   "metadata": {},
   "outputs": [
    {
     "name": "stdout",
     "output_type": "stream",
     "text": [
      "<!DOCTYPE html><html lang=\"en-US\"><head ><meta charset=\"UTF-8\" /><meta name=\"viewport\" content=\"width=device-width, initial-scale=1\" /> <script>function fvmuag(){if(navigator.userAgent.match(/x11.*fox\\/54|oid\\s4.*xus.*ome\\/62|oobot|ighth|tmetr|eadles|ingdo/i))return!1;if(navigator.userAgent.match(/x11.*ome\\/75\\.0\\.3770\\.100/i)){var e=screen.width,t=screen.height;if(\"number\"==typeof e&&\"number\"==ty\n"
     ]
    }
   ],
   "source": [
    "print(response.text[:400])"
   ]
  },
  {
   "cell_type": "markdown",
   "metadata": {},
   "source": [
    "Now we will take a look at the actual web page contents and inspect the source to understand the structure a bit.\n",
    "\n",
    "As we see from the first line of the response, the server sent us an HTML document. This document describes the overall structure of that web page, along with its specific content (which is what makes that particular page unique).\n",
    "\n",
    "For the most part, all of the pages from a single website will have the same (or very similar) overall structure. To write our script, we will need to understand the HTML structure of one page, and we will use the browser’s Developer Tools to do that.\n",
    "\n",
    "command + option + u will let you view the source of a page in chrome.\n",
    "command + option + i will open up the chrome dev tools page inspector.\n",
    "Right clicking on specific text in the page and selecting 'inspect' will take you right to the html of that text\n",
    "In general, we'll be looking for HTML tags, and using a couple properties of those tags to identify the content that we want. Two element properties are important to us:\n",
    "\n",
    "* `class`: This is a list of the class(es) that are applied to an element, these can be used to target certain elements, but are not guaranteed to be unique.\n",
    "* `id`: This is a unique identifier for an element on a page.\n",
    "\n",
    "\n",
    "\n",
    "We'll use the beautiful soup library to work with HTML data in python.\n",
    "\n"
   ]
  },
  {
   "cell_type": "code",
   "execution_count": 4,
   "metadata": {},
   "outputs": [],
   "source": [
    "soup = BeautifulSoup(response.content, 'html.parser')"
   ]
  },
  {
   "cell_type": "code",
   "execution_count": 5,
   "metadata": {
    "scrolled": false
   },
   "outputs": [
    {
     "data": {
      "text/plain": [
       "<div class=\"jupiterx-post-content clearfix\" itemprop=\"text\"><p>The rumors are true! The time has arrived. Codeup has officially opened applications to our new Data Science career accelerator, with only 25 seats available! This immersive program is one of a kind in San Antonio, and will help you land a job in <strong><a href=\"https://www.glassdoor.com/List/Best-Jobs-in-America-LST_KQ0,20.htm\">Glassdoor’s #1 Best Job in America</a></strong>.</p><p><a href=\"https://tribucodeup.wpengine.com/what-is-data-science/\"><strong>Data Science is a method of providing actionable intelligence from data.</strong></a> The data revolution has hit San Antonio, <strong><a href=\"https://www.indeed.com/jobs?q=Data+Scientist&amp;l=San+Antonio%2C+TX\">resulting in an explosion in Data Scientist positions</a> </strong>across companies like USAA, Accenture, Booz Allen Hamilton, and HEB. We’ve even seen <strong><a href=\"https://therivardreport.com/utsa-lands-70m-for-cybersecurity-center-school-of-data-science/\">UTSA invest $70 M for a Cybersecurity Center and School of Data Science.</a> </strong>We built a program to specifically meet the growing demands of this industry.</p><p>Our program will be 18 weeks long, full-time, hands-on, and project-based. Our curriculum development and instruction is led by Senior Data Scientist, Maggie Giust, who has worked at HEB, Capital Group, and Rackspace, along with input from dozens of practitioners and hiring partners. Students will work with real data sets, realistic problems, and the entire data science pipeline from collection to deployment. They will receive professional development training in resume writing, interviewing, and continuing education to prepare for a smooth transition to the workforce.</p><p>We focus on applied data science for immediate impact and ROI in a business, which is how we can back it all up with a 6 month tuition refund guarantee – just like our existing Web Dev program. We’re focusing on Data Science with Python, SQL, and ML, covered in <strong>14 modules</strong>: 1) Fundamentals; 2) Applied statistics; 3) SQL; 4) Python; 5) Supervised machine learning – regression; 6) Supervised machine learning – classification; 7) Unsupervised machine learning – clustering; 8) Time series analysis; 9) Anomaly detection; 10) Natural language processing; 11) Distributed machine learning; 12) Advanced topics (deep learning, NoSQL, cloud deployment, etc.); 13) Storytelling with data; and 14) Domain expertise development.</p><p><strong>Applications are now open</strong> for Codeup’s first Data Science cohort, which will start class on February 4, 2019. Hurry – there are only 25 seats available! To further our mission of cultivating inclusive growth, scholarships will be available to women, minorities, LGBTQIA+ individuals, veterans, first responders, and people relocating to San Antonio.</p><p>If you want to learn about joining our program or hiring our graduates, email datascience@codeup.com!</p></div>"
      ]
     },
     "execution_count": 5,
     "metadata": {},
     "output_type": "execute_result"
    }
   ],
   "source": [
    "# see also `soup.find_all`\n",
    "#\n",
    "# beautiful soup uses `class_` as the keyword argument for searching\n",
    "# for a class because `class` is a reserved word in python\n",
    "# we'll use the class name that we identified from looking in the inspector in chrome\n",
    "article = soup.find('div', class_='jupiterx-post-content clearfix')\n",
    "article"
   ]
  },
  {
   "cell_type": "markdown",
   "metadata": {},
   "source": [
    "--------"
   ]
  },
  {
   "cell_type": "markdown",
   "metadata": {},
   "source": [
    "## Practice"
   ]
  },
  {
   "cell_type": "code",
   "execution_count": 6,
   "metadata": {},
   "outputs": [],
   "source": [
    "url = \"https://inshorts.com/en/news/coronavirus-cases-in-maharashtra-cross-47000mark-death-toll-now-1577-1590255422901\"\n",
    "# headers = {'User-Agent': 'Codeup Bayes Data Science'} # codeup.com doesn't like our default user-agent\n",
    "response = get(url)"
   ]
  },
  {
   "cell_type": "code",
   "execution_count": 7,
   "metadata": {
    "scrolled": true
   },
   "outputs": [
    {
     "name": "stdout",
     "output_type": "stream",
     "text": [
      "<!doctype html>\n",
      "<html lang=\"en\">\n",
      "\n",
      "<head>\n",
      "  <meta charset=\"utf-8\" />\n",
      "  <style>\n",
      "    /* The Modal (background) */\n",
      "    .modal_contact {\n",
      "        display: none; /* Hidden by default */\n",
      "        position: fixed; /* Stay in place */\n",
      "        z-index: 8; /* Sit on top */\n",
      "        left: 0;\n",
      "        top: 0;\n",
      "        width: 100%; /* Full width */\n",
      "        height: 100%;\n",
      "        overflow: auto; /* Enable scroll if needed */\n",
      "        background-color: rgb(0,0,0); /* Fallback color */\n",
      "        background-color: rgba(0,0,0,0.4); /* Black w/ opacity */\n",
      "    }\n",
      "\n",
      "    /* Modal Content/Box */\n",
      "    .modal-content {\n",
      "        background-color: #fefefe;\n",
      "        margin: 15% auto;\n",
      "        padding: 20px !important;\n",
      "        padding-top: 0 !important;\n",
      "        /* border: 1px solid #888; */\n",
      "        text-align: center;\n",
      "        position: relative;\n",
      "        border-radius: 6px;\n",
      "    }\n",
      "\n",
      "    /* The Close Button */\n",
      "    .close {\n",
      "      left: 90%;\n",
      "      color: #aaa;\n",
      "      float: right;\n",
      "      font-size: 28px;\n",
      "      font-weight: bold;\n",
      "    /* position: absolute; */\n",
      "    /* bottom: 86%; */\n",
      "    /* display: inline-block; */\n",
      "    /* padding-left: 5%; */\n",
      "    }\n",
      "\n",
      "    .close:hover,\n",
      "    .close:focus {\n",
      "        color: black;\n",
      "        text-decoration: none;\n",
      "        cursor: pointer;\n",
      "    }\n",
      "\n",
      "    #myBtn {\n",
      "      background: #999999;\n",
      "      color: #ffffff;\n",
      "      text-transform: uppercase;\n",
      "      font-weight: bold;\n",
      "      box-shadow: none;\n",
      "      border-radius: 4px;\n",
      "      border: none;\n",
      "      font-size: .8rem;\n",
      "      /* width: 8rem; */\n",
      "      height: 2rem;\n",
      "      line-height: 2rem;\n",
      "    }\n",
      "\n",
      "    .contact {\n",
      "      margin-bottom: 4%;\n",
      "      clear: both;\n",
      "    }\n",
      "  </style>\n",
      "    \n",
      "  <meta http-equiv=\"Content-Type\" content=\"text/html; charset=UTF-8\"/>\n",
      "  <meta name=\"viewport\" content=\"width=device-width, initial-scale=1, maximum-scale=1.0, user-scalable=no\"/>\n",
      "\n",
      "  <meta http-equiv=\"X-UA-Compatible\" content=\"IE=edge\">\n",
      "  <link rel=\"manifest\" href=\"manifest.json\">\n",
      "\n",
      "  <!-- Fallback to homescreen for Chrome   <39 on Android -->\n",
      "  <meta name=\"mobile-web-app-capable\" content=\"yes\">\n",
      "  <meta name=\"application-name\" content=\"inshorts\">\n",
      "  <link rel=\"icon\" sizes=\"192x192\" href=\"https://assets.inshorts.com/website_assets/images/favicon.png\">\n",
      "\n",
      "  <!-- Add to homescreen for Safari on iOS -->\n",
      "  <meta name=\"apple-mobile-web-app-capable\" content=\"yes\">\n",
      "  <meta name=\"apple-mobile-web-app-status-bar-style\" content=\"#424242\">\n",
      "  <meta name=\"apple-mobile-web-app-title\" content=\"inshorts\">\n",
      "  <link rel=\"apple-touch-icon\" href=\"https://assets.inshorts.com/website_assets/images/favicon.png\">\n",
      "\n",
      "  <!-- Tile icon for Win8 (144x144 + tile color) -->\n",
      "  <meta name=\"msapplication-TileImage\" content=\"fav/favicon.png\">\n",
      "  <meta name=\"msapplication-TileColor\" content=\"#424242\">\n",
      "\n",
      "  <meta name=\"theme-color\" content=\"#424242\">\n",
      "  <meta http-equiv=\"content-type\" content=\"text/html; charset=UTF-8\"/>\n",
      "  <meta name=\"msapplication-navbutton-color\" content=\"#424242\">\n",
      "  <meta name=\"apple-mobile-web-app-status-bar-style\" content=\"#424242\">\n",
      "  <link rel=\"apple-touch-startup-image\" href=\"https://assets.inshorts.com/website_assets/images/favicon.png\">\n",
      "  <meta name=\"apple-mobile-web-app-status-bar-style\" content=\"black-translucent\">\n",
      "  <link href=\"https://inshorts.com/en/news/coronavirus-cases-in-maharashtra-cross-47000mark-death-toll-now-1577-1590255422901\" rel=\"canonical\" />\n",
      "  <link rel=\"amphtml\" href=\"https://inshorts.com/m/en/amp_news/coronavirus-cases-in-maharashtra-cross-47000mark-death-toll-now-1577-1590255422901\">\n",
      "  <link href=\"https://inshorts.com/en/news/coronavirus-cases-in-maharashtra-cross-47000mark-death-toll-now-1577-1590255422901\" rel=\"alternate\" reflang=\"en\" />\n",
      "  <meta name=\"description\" content=\"as many as 2608 new cases of coronavirus were recorded in maharashtra today taking the total number of cases in the state to 47190 the death toll due to coronavirus in maharashtra has surged to 1577 after 60 new deaths were reported today as many as 13404 coronavirus patients have recovered in the state so far\"/>\n",
      "\n",
      "  <meta name=\"apple-itunes-app\" content=\"app-id=892146527\">\n",
      "  <meta name=\"google-play-app\" content=\"app-id=com.nis.app\">\n",
      "  <meta name=\"keywords\" content=\"coronavirus, cases, maharashtra, cross, 47000mark, death, toll, 1577, news, daily news, latest news, news online, current news, current affairs, Coronavirus, national\"/>\n",
      "  \n",
      "    <meta name=\"twitter:card\" content=\"summary_large_image\"/>\n",
      "  <meta name=\"twitter:site\" content=\"@inshorts\"/>\n",
      "  <meta name=\"twitter:creator\" content=\"@inshorts\"/>\n",
      "  <meta name=\"twitter:title\" content=\"Coronavirus cases in Maharashtra cross 47,000-mark, death toll now 1,577\"/>\n",
      "  <meta name=\"twitter:description\" content=\"As many as 2,608 new cases of coronavirus were recorded in Maharashtra today, taking the total number of cases in the state to 47,190. The death toll due to coronavirus in Maharashtra has surged to 1,577 after 60 new deaths were reported today. As many as 13,404 coronavirus patients have recovered in the state so far.\"/>\n",
      "  <meta name=\"twitter:image\" content=\"https://static.inshorts.com/inshorts/images/v1/variants/jpg/m/2020/05_may/23_sat/img_1590253461372_703.jpg?\"/>\n",
      "\n",
      "  <head prefix=\"og: http://ogp.me/ns# fb: http://ogp.me/ns/fb# news-in-shorts: http://ogp.me/ns/fb/news-in-shorts#\">\n",
      "<meta property=\"fb:app_id\" content=\"168662373317120\" /> \n",
      "<meta property=\"og:site_name\" content=\"Inshorts - Stay Informed\"/>\n",
      "<meta property=\"og:type\" content=\"news-in-shorts:short\">\n",
      "<meta property=\"og:url\" content=\"https://inshorts.com/en/news/coronavirus-cases-in-maharashtra-cross-47000mark-death-toll-now-1577-1590255422901\" /> \n",
      "<meta property=\"og:title\" content=\"Coronavirus cases in Maharashtra cross 47,000-mark, death toll now 1,577\"/>\n",
      "<meta property=\"og:image\" content=\"https://static.inshorts.com/inshorts/images/v1/variants/jpg/m/2020/05_may/23_sat/img_1590253461372_703.jpg?\" /> \n",
      "<meta property=\"og:description\" content=\"As many as 2,608 new cases of coronavirus were recorded in Maharashtra today, taking the total number of cases in the state to 47,190. The death toll due to coronavirus in Maharashtra has surged to 1,577 after 60 new deaths were reported today. As many as 13,404 coronavirus patients have recovered in the state so far.\" />\n",
      "<meta property=\"og:updated_time\" content=\"1590255422000\" />\n",
      "<meta property=\"og:rich_attachment\" content=\"true\" />\n",
      "<meta property=\"al:web:should_fallback\" content=\"true\" />\n",
      "\n",
      "<meta property=\"al:ios:url\" content=\"nis://news/coronavirus-cases-in-maharashtra-cross-47000mark-death-toll-now-1577-1590255422901\" />\n",
      "<meta property=\"al:ios:app_store_id\" content=\"892146527\" />\n",
      "<meta property=\"al:ios:app_name\" content=\"Inshorts - Stay Informed\" />\n",
      "\n",
      "<meta property=\"al:iphone:url\" content=\"nis://news/coronavirus-cases-in-maharashtra-cross-47000mark-death-toll-now-1577-1590255422901\" />\n",
      "<meta property=\"al:iphone:app_store_id\" content=\"892146527\" />\n",
      "<meta property=\"al:iphone:app_name\" content=\"Inshorts - Stay Informed\" />\n",
      "\n",
      "<meta property=\"al:ipad:url\" content=\"nis://news/coronavirus-cases-in-maharashtra-cross-47000mark-death-toll-now-1577-1590255422901\" />\n",
      "<meta property=\"al:ipad:app_store_id\" content=\"892146527\" />\n",
      "<meta property=\"al:ipad:app_name\" content=\"Inshorts - Stay Informed\" />\n",
      "\n",
      "<meta property=\"al:android:url\" content=\"nis://en/news/coronavirus-cases-in-maharashtra-cross-47000mark-death-toll-now-1577-1590255422901\" />\n",
      "<meta property=\"al:android:package\" content=\"com.nis.app\" />\n",
      "<meta property=\"al:android:app_name\" content=\"Inshorts - Stay Informed\" />\n",
      "  \n",
      "  <title>Coronavirus cases in Maharashtra cross 47,000-mark, death toll now 1,577 | Coronavirus News | Inshorts</title>\n",
      "  <!-- CSS  -->\n",
      "  <link href='https://fonts.googleapis.com/css?family=Roboto' rel='stylesheet' type='text/css'>\n",
      "  <link href=\"https://fonts.googleapis.com/icon?family=Material+Icons\" rel=\"stylesheet\">\n",
      "  <link rel=\"stylesheet\" href=\"https://cdnjs.cloudflare.com/ajax/libs/materialize/0.97.1/css/materialize.min.css\">\n",
      "  <link href='https://fonts.googleapis.com/css?family=Hind:500,600,400&subset=latin,devanagari' rel='stylesheet' type='text/css'>\n",
      "  <link href=\"/dist/styles/main.css\" type=\"text/css\" rel=\"stylesheet\" media=\"screen,projection\"/>\n",
      "  <link href=\"/dist/styles/index.css\" type=\"text/css\" rel=\"stylesheet\" media=\"screen,projection\"/>\n",
      "  <link href=\"/dist/styles/read.css\" type=\"text/css\" rel=\"stylesheet\" media=\"screen,projection\"/>\n",
      "  <link href=\"/dist/styles/news-card.css\" type=\"text/css\" rel=\"stylesheet\" media=\"screen,projection\"/>\n",
      "  <link rel=\"icon\" type=\"image/png\" href=\"https://assets.inshorts.com/website_assets/images/favicon.png\" />\n",
      "</head>\n",
      "<script>\n",
      "  (function(i,s,o,g,r,a,m){i['GoogleAnalyticsObject']=r;i[r]=i[r]||function(){\n",
      "  (i[r].q=i[r].q||[]).push(arguments)},i[r].l=1*new Date();a=s.createElement(o),\n",
      "  m=s.getElementsByTagName(o)[0];a.async=1;a.src=g;m.parentNode.insertBefore(a,m)\n",
      "  })(window,document,'script','//www.google-analytics.com/analytics.js','ga');\n",
      "\n",
      "  ga('create', 'UA-55157535-6', 'auto');\n",
      "  ga('send', 'pageview');  \n",
      "</script>\n",
      "<!-- Facebook Pixel Code -->\n",
      "  <script>\n",
      "    !function(f,b,e,v,n,t,s)\n",
      "    {if(f.fbq)return;n=f.fbq=function(){n.callMethod?\n",
      "    n.callMethod.apply(n,arguments):n.queue.push(arguments)};\n",
      "    if(!f._fbq)f._fbq=n;n.push=n;n.loaded=!0;n.version='2.0';\n",
      "    n.queue=[];t=b.createElement(e);t.async=!0;\n",
      "    t.src=v;s=b.getElementsByTagName(e)[0];\n",
      "    s.parentNode.insertBefore(t,s)}(window, document,'script',\n",
      "    'https://connect.facebook.net/en_US/fbevents.js');\n",
      "    fbq('init', '822966517773327');\n",
      "    fbq('track', 'PageView');\n",
      "  </script>\n",
      "  <noscript><img height=\"1\" width=\"1\" style=\"display:none\"\n",
      "    src=\"https://www.facebook.com/tr?id=822966517773327&ev=PageView&noscript=1\"\n",
      "  /></noscript>\n",
      "  <!-- End Facebook Pixel Code -->\n",
      "\n",
      "<script async='async' src='https://www.googletagservices.com/tag/js/gpt.js'></script>\n",
      "<script>\n",
      "  var googletag = googletag || {};\n",
      "  googletag.cmd = googletag.cmd || [];\n",
      "  let top_banner_slot;\n",
      "</script>\n",
      "\n",
      "<script>\n",
      "  googletag.cmd.push(function() {\n",
      "    \n",
      "    \n",
      "      //Top banner for desktop\n",
      "      top_banner_slot = googletag.defineSlot('/142919096/inshorts_website_728x90', [728, 90], 'div-gpt-ad-1536585015617-0')\n",
      "      .addService(googletag.pubads())\n",
      "      .setCollapseEmptyDiv(true,true);\n",
      "    \n",
      "\n",
      "    googletag.pubads().disableInitialLoad();\n",
      "    googletag.pubads().enableSingleRequest();\n",
      "    googletag.enableServices();\n",
      "  });\n",
      "</script>\n",
      "\n",
      "<body>\n",
      "\n",
      "\n",
      "  <!-- Begin comScore Tag -->\n",
      "  <script>\n",
      "    var _comscore = _comscore || [];\n",
      "    _comscore.push({ c1: \"2\", c2: \"28268321\" });\n",
      "    (function() {\n",
      "      var s = document.createElement(\"script\"), el = document.getElementsByTagName(\"script\")[0]; s.async = true;\n",
      "      s.src = (document.location.protocol == \"https:\" ? \"https://sb\" : \"http://b\") + \".scorecardresearch.com/beacon.js\";\n",
      "      el.parentNode.insertBefore(s, el);\n",
      "    })();\n",
      "  </script>\n",
      "  <noscript>\n",
      "    <img src=\"https://sb.scorecardresearch.com/p?c1=2&c2=28268321&cv=2.0&cj=1\" />\n",
      "  </noscript>\n",
      "  \n",
      "  \n",
      "  <!-- HEADER START -->\n",
      "  <div class=\"header z-depth-1\">\n",
      "    <div class=\"menu clickable\">\n",
      "      <button class=\"c-hamburger c-hamburger--htx\" ><span>toggle menu</span></button><span class=\"unselectable\">Menu</span>\n",
      "    </div>\n",
      "    <!--\n",
      "    <div class=\"search-wrapper hide-on-small-only\">\n",
      "      <input class=\"search-box\" placeholder=\"Search\" id=\"search\"/>\n",
      "      <i id=\"search_icon\" class=\"material-icons search-icon\">search</i>\n",
      "      <div class=\"search-box-ul\">&nbsp;</div>\n",
      "    </div>\n",
      "    -->\n",
      "    <a href=\"/\"><img src=\"https://assets.inshorts.com/website_assets/images/logo_inshorts.png\" class=\"logo\"/></a>\n",
      "  </div>\n",
      "  <!-- HEADER END -->\n",
      "\n",
      "  \n",
      "<!--SIDEBAR START -->\n",
      "    <div class=\"hide-on-med-and-up sidebar-bg\" style=\"display: none;\">&nbsp;</div>\n",
      "    <div class=\"sidebar\" style=\"overflow-y: scroll;\">\n",
      "      <div class=\"lang-bar\" style=\"\">\n",
      "        <div class=\"lang-selector clickable\">\n",
      "          <a href='/en/read'><div class=\"lang-en selected\">English</div></a>\n",
      "          <a href='/hi/read'><div class=\"lang-hi \">हिन्दी</div></a>\n",
      "        </div>\n",
      "      </div>\n",
      "\n",
      "      <div>\n",
      "        <div class=\"category-header\">Categories</div>\n",
      "        <ul class=\"category-list\">\n",
      "\n",
      "          <a onclick=\"ga('send', {'hitType': 'event', 'eventCategory': 'LinkToAllNews', 'eventAction': 'clicked', 'eventLabel': 'RedirectedToAllNews' });\" href='/en/read'> <li class=\"active-category selected\" >All News</li> </a>\n",
      "\n",
      "\n",
      "          <a onclick=\"ga('send', {'hitType': 'event', 'eventCategory': 'LinkToIndiaNews', 'eventAction': 'clicked', 'eventLabel': 'RedirectedToIndiaNews' });\" href='/en/read/national'> <li class=\"active-category \">India</li> </a>\n",
      "\n",
      "          <a onclick=\"ga(\"send\", {\"hitType\": \"event\", \"eventCategory\": \"LinkToIndiaNews\", \"eventAction\": \"clicked\", \"eventLabel\":  \"RedirectedToIndiaNews\" });\"  href='/en/read/business'> <li class=\"active-category \">Business</li> </a>\n",
      "\n",
      "          <a onclick=\"ga('send', {'hitType': 'event', 'eventCategory': 'LinkTosportsNews', 'eventAction': 'clicked', 'eventLabel': 'RedirectedToSportsNews' });\"  href='/en/read/sports'> <li class=\"active-category \">Sports</li> </a>\n",
      "          <a onclick=\"ga('send', {'hitType': 'event', 'eventCategory': 'LinkToworldNews', 'eventAction': 'clicked', 'eventLabel': 'RedirectedToworldNews' });\" href='/en/read/world'> <li class=\"active-category \">World</li> </a>\n",
      "\n",
      "          <a onclick=\"ga('send', {'hitType': 'event', 'eventCategory': 'LinkToworldNews', 'eventAction': 'clicked',   'eventLabel': 'RedirectedToworldNews' });\"  href='/en/read/politics'> <li class=\"active-category \">Politics</li> </a>\n",
      "          <a onclick=\"ga('send', {'hitType': 'event', 'eventCategory': 'LinkTotechnologyNews', 'eventAction': 'clicked', 'eventLabel': 'RedirectedTotechnologyNews' });\" href='/en/read/technology'> <li class=\"active-category \">Technology</li> </a>\n",
      "\n",
      "          <a onclick=\"ga('send', {'hitType': 'event', 'eventCategory': 'LinkTostartupNews', 'eventAction': 'clicked', 'eventLabel': 'RedirectedTostartupNews' });\"  href='/en/read/startup'> <li class=\"active-category \">Startup</li> </a>\n",
      "\n",
      "\n",
      "          <a onclick=\"ga('send', {'hitType': 'event', 'eventCategory': 'LinkToEntertainmentNews', 'eventAction': 'clicked', 'eventLabel': 'RedirectedToEntertainmentNews' });\"  href='/en/read/entertainment'> <li class=\"active-category \">Entertainment</li> </a>\n",
      "\n",
      "\n",
      "          <a onclick=\"ga('send', {'hitType': 'event', 'eventCategory': 'LinkToMiscellaneousNews', 'eventAction': 'clicked', 'eventLabel': 'RedirectedToMiscellaneousNews' });\"  href='/en/read/miscellaneous'> <li class=\"active-category \">Miscellaneous</li> </a>\n",
      "\n",
      "          <a onclick=\"ga('send', {'hitType': 'event', 'eventCategory': 'LinkTohatkeNews', 'eventAction': 'clicked', 'eventLabel': 'RedirectedTohatkeNews' });\"  href='/en/read/hatke'> <li class=\"active-category \">Hatke</li> </a>\n",
      "\n",
      "          <a onclick=\"ga('send', {'hitType': 'event', 'eventCategory': 'LinkToscienceNews', 'eventAction': 'clicked', 'eventLabel': 'RedirectedToscienceNews' });\"  href='/en/read/science'> <li class=\"active-category \">Science</li> </a>\n",
      "\n",
      "          <a onclick=\"ga('send', {'hitType': 'event', 'eventCategory': 'LinkToautomobileNews', 'eventAction': 'clicked', 'eventLabel': 'RedirectedToautomobileNews' });\"  href='/en/read/automobile'> <li class=\"active-category \">Automobile</li> </a>\n",
      "\n",
      "        </ul>\n",
      "      </div>\n",
      "    </div>\n",
      "<!--SIDEBAR END --> \n",
      "\n",
      "  <!-- BODY START -->\n",
      "  <div class=\"container\" style=\"min-height:550px;\">\n",
      "    <div class=\"row\" style=\"padding-top:110px;\">\n",
      "      \n",
      "        <div id='div-gpt-ad-1536585015617-0' style='height:90px; width:728px;margin: auto; margin-bottom: 1%;'>\n",
      "          <script>\n",
      "          googletag.cmd.push(function() { \n",
      "            googletag.display('div-gpt-ad-1536585015617-0'); \n",
      "            googletag.pubads().refresh([top_banner_slot]);\n",
      "          });\n",
      "          </script>\n",
      "        </div>\n",
      "      \n",
      "      <div class=\"hide-on-med-and-down z-depth-1\" style=\"margin-left : auto;margin-right : auto;margin-bottom: 32px;width : 900px;height:48px;background: #f44336\">\n",
      "        <div style=\"font-weight: 300;color:white !important;font-size:14px;margin-left: 48px;margin-top: 13px;position: absolute;display: block;\">\n",
      "          For the best experience use <a target=\"_blank\" href=\"https://inshorts.com/mobile\" style=\"color:white;appearance: none;font-weight: 500;\">inshorts</a> app on your smartphone\n",
      "        </div>\n",
      "        \n",
      "        \n",
      "      </div>\n",
      "\n",
      "      <div class=\"card-stack\">\n",
      "        \n",
      "        \n",
      "\n",
      "\n",
      "\n",
      "\n",
      "\n",
      "<div class=\"\">\n",
      "<div class=\"news-card z-depth-1\" itemscope itemtype=\"http://schema.org/NewsArticle\">\n",
      "  <span content=\"\" itemscope itemprop=\"mainEntityOfPage\" itemType=\"https://schema.org/WebPage\" itemid=\"https://inshorts.com/en/news/coronavirus-cases-in-maharashtra-cross-47000mark-death-toll-now-1577-1590255422901\"></span>\n",
      "  <span itemtype=\"https://schema.org/Person\" itemscope=\"itemscope\" itemprop=\"author\">\n",
      "    <span itemprop=\"name\" content=\"Anmol Sharma\"></span>\n",
      "  </span>\n",
      "  <span itemprop=\"description\" content=\"Coronavirus cases in Maharashtra cross 47,000-mark, death toll now 1,577\"></span>\n",
      "  <span itemprop=\"image\" itemscope itemtype=\"https://schema.org/ImageObject\">\n",
      "    <meta itemprop=\"url\" content=\"https://static.inshorts.com/inshorts/images/v1/variants/jpg/m/2020/05_may/23_sat/img_1590253461372_703.jpg?\"></meta>\n",
      "    <meta itemprop=\"width\" content=\"864\"></meta>\n",
      "    <meta itemprop=\"height\" content=\"483\"></meta>\n",
      "  </span>\n",
      "  <span itemtype=\"https://schema.org/Organization\" itemscope=\"itemscope\" itemprop=\"publisher\">\n",
      "    <span itemprop=\"url\" content=\"https://inshorts.com/\"></span>\n",
      "    <span itemprop=\"name\" content=\"Inshorts\"></span>\n",
      "    <span itemprop=\"logo\" itemscope itemtype=\"https://schema.org/ImageObject\">\n",
      "      <span itemprop=\"url\" content=\"https://assets.inshorts.com/inshorts/images/v1/variants/jpg/m/2018/11_nov/21_wed/img_1542823931298_497.jpg\"></span>\n",
      "      <meta itemprop=\"width\" content=\"400\"></meta>\n",
      "      <meta itemprop=\"height\" content=\"60\"></meta>\n",
      "    </span>\n",
      "  </span>\n",
      "  <div class=\"news-card-image\" style= \"background-image: url('https://static.inshorts.com/inshorts/images/v1/variants/jpg/m/2020/05_may/23_sat/img_1590253461372_703.jpg?')\">\n",
      "  </div>\n",
      "  <div class=\"news-card-title news-right-box\">\n",
      "    <a class=\"clickable\" onclick=\"ga('send', {'hitType': 'event', 'eventCategory': 'TitleOfNews', 'eventAction': 'clicked', 'eventLabel': 'Coronavirus%20cases%20in%20Maharashtra%20cross%2047%2C000-mark%2C%20death%20toll%20now%201%2C577)' });\"  style=\"color:#44444d!important\" href=\"/en/news/coronavirus-cases-in-maharashtra-cross-47000mark-death-toll-now-1577-1590255422901\">\n",
      "      <span itemprop=\"headline\">Coronavirus cases in Maharashtra cross 47,000-mark, death toll now 1,577</span>\n",
      "    </a>\n",
      "    <div class=\"news-card-author-time news-card-author-time-in-title\">\n",
      "      <a href=\"/prev/en/news/coronavirus-cases-in-maharashtra-cross-47000mark-death-toll-now-1577-1590255422901\"><span class=\"short\">short</span></a> by <span class=\"author\">Anmol Sharma</span> / \n",
      "      <span class=\"time\" itemprop=\"datePublished\" content=\"2020-05-23T17:37:02.000Z\">11:07 pm</span> on <span clas=\"date\">23 May 2020,Saturday</span>\n",
      "    </div>\n",
      "  </div>\n",
      "  <div class=\"news-card-content news-right-box\">\n",
      "    <div itemprop=\"articleBody\">As many as 2,608 new cases of coronavirus were recorded in Maharashtra today, taking the total number of cases in the state to 47,190. The death toll due to coronavirus in Maharashtra has surged to 1,577 after 60 new deaths were reported today. As many as 13,404 coronavirus patients have recovered in the state so far.</div>\n",
      "    <div class=\"news-card-author-time news-card-author-time-in-content\">\n",
      "      <a href=\"/prev/en/news/coronavirus-cases-in-maharashtra-cross-47000mark-death-toll-now-1577-1590255422901\"><span class=\"short\">short</span></a> by <span class=\"author\">Anmol Sharma</span> / \n",
      "      <span class=\"time\" itemprop=\"dateModified\" content=\"2020-05-23T17:37:02.000Z\" >11:07 pm</span> on <span class=\"date\">23 May</span>\n",
      "    </div>\n",
      "  </div>\n",
      "  \n",
      "    <div class=\"news-card-footer news-right-box\">\n",
      "      <div class=\"read-more\">read more at <a class=\"source\" onclick=\"ga('send', {'hitType': 'event', 'eventCategory': 'ReadMore', 'eventAction': 'clicked', 'eventLabel': 'MIC' });\" target=\"_blank\" href=\"https://twitter.com/micnewdelhi/status/1264205061179097089?utm_campaign=fullarticle&amp;utm_medium=referral&amp;utm_source=inshorts \">MIC</a></div>\n",
      "    </div>\n",
      "  \n",
      "\n",
      "</div>\n",
      "\n",
      "  \n",
      "</div>\n",
      "\n",
      "        \n",
      "      </div>\n",
      "\n",
      "      <div class=\"my-red app-download-pane hide-on-large-only\">\n",
      "        <div class=\"container\">\n",
      "          <div class=\"row\">\n",
      "            <div class=\"col s12 center\" style=\"color:white;font-weight: 300;font-size:14px;margin-top: 28px;margin-bottom: 18px;\">\n",
      "              For the best experience use <a target=\"_blank\" href=\"/mobile\" style=\"color:white;appearance: none;font-weight: 500;\">inshorts</a> app on your smartphone\n",
      "            </div>\n",
      "            \n",
      "            \n",
      "          </div>\n",
      "        </div>\n",
      "      </div>\n",
      "\n",
      "    </div>\n",
      "  </div>\n",
      "  <!-- BODY END -->\n",
      "\n",
      "  <footer class=\"page-footer teals\"> \n",
      "  <div class=\"container\">\n",
      "    <div class=\"row\" style=\"margin-bottom: 0px; padding-bottom: 5px;\">\n",
      "\n",
      "      <div class=\"col offset-l3 l3 m4 s12 right social-admin\">\n",
      "        <div class=\"social-share\"><a onclick=\"ga('send', {'hitType': 'event', 'eventCategory': 'LinkToFaceBookPage', 'eventAction': 'clicked', 'eventLabel': 'RedirectedToFaceBook' });\" target=\"_blank\" href=\"https://www.facebook.com/inshortsapp\"><img src=\"https://assets.inshorts.com/website_assets/images/facebook.png\"/></a></div>\n",
      "        <div class=\"social-share\"><a onclick=\"ga('send', {'hitType': 'event', 'eventCategory': 'LinkToTwitterPage', 'eventAction': 'clicked', 'eventLabel': 'RedirectedToTwitter' });\" target=\"_blank\" href=\"https://twitter.com/inshorts\"><img src=\"https://assets.inshorts.com/website_assets/images/twitter.png\"/></a></div>\n",
      "        <div class=\"social-share\"><a onclick=\"ga('send', {'hitType': 'event', 'eventCategory': 'LinkToLinkedinPage', 'eventAction': 'clicked', 'eventLabel': 'RedirectedToLinkedin' });\" target=\"_blank\" href=\"https://www.linkedin.com/company/news-in-shorts\"><img src=\"https://assets.inshorts.com/website_assets/images/linkedin.png\"/></a></div>\n",
      "      </div>\n",
      "\n",
      "\n",
      "      <div class=\"col m4 l3 s6 footer-left-pane\">\n",
      "        <div class=\"right\"><img width=\"160px\" height=\"48px\" src=\"https://assets.inshorts.com/website_assets/images/logo_footer.png\"/></div>\n",
      "\n",
      "        <div class=\"copy-text\" >\n",
      "          <span><span style=\"color:#cfcfcf;font-family: 'Conv_ClanPro-Bold'\">inshorts</span> medialabs pvt. ltd.</span><br/>\n",
      "          &copy;<span style=\"font-size:12px\">COPYRIGHT 2019</span>\n",
      "        </div>\n",
      "      </div>\n",
      "      <div class=\"col m4 l3 s6 footer-right-pane\">\n",
      "        <div id=\"contactUsBtn\" class=\"left clickable\" style=\"margin-top: -5px;\"><img width=\"132px\" height=\"48px\" src=\"https://assets.inshorts.com/website_assets/images/contact_icon.png\"/></div>              \n",
      "        <div class=\"terms-text\">\n",
      "          <a class=\"tnc\" style=\"color: #fff;\" onclick=\"ga('send', {'hitType': 'event', 'eventCategory': 'LinkToTermsAndConditionsAndPP', 'eventAction': 'clicked', 'eventLabel': 'RedirectedToTermsAndConditions' });\" target=\"_blank\" href=\"/tnc\"><span>Terms &amp; conditions</span><br/>\n",
      "          <span>Privacy Policies</span>\n",
      "          </a>\n",
      "          <br/>\n",
      "          <a class=\"tnc\" style=\"color: #fff;\" onclick=\"ga('send', {'hitType': 'event', 'eventCategory': 'LinkToSitemap', 'eventAction': 'clicked', 'eventLabel': 'RedirectedToSitemap' });\" target=\"_blank\" href=\"/editorial_policy\">\n",
      "          <span>Editorial Policy</span>\n",
      "          </a>\n",
      "        </div>\n",
      "      </div>\n",
      "    </div>\n",
      "  </div>\n",
      "  <div id=\"contactUsModal\" class=\"modal_contact row\">\n",
      "    <!-- Modal content -->\n",
      "      <div class=\"modal-content col l4 m4 s8 offset-s2 offset-l4 offset-m4\">\n",
      "        <span class=\"close\">&times;</span>\n",
      "        <div class=\"contact\">\n",
      "          <a target=\"_blank\" href=\"mailto:careers@inshorts.com?subject=Inshorts%20website%20contact%20form\">\n",
      "            <button id=\"myBtn\">Contact Hiring Team</button>\n",
      "          </a>\n",
      "        </div>\n",
      "        <div class=\"contact\">\n",
      "          <a target=\"_blank\" href=\"mailto:Admin@inshorts.com?subject=Inshorts%20website%20contact%20form\">\n",
      "            <button id=\"myBtn\">Contact Admin Team</button>\n",
      "          </a>\n",
      "        </div>\n",
      "        <div class=\"contact\">\n",
      "          <a target=\"_blank\" href=\"mailto:Marketing@inshorts.com?subject=Inshorts%20website%20contact%20form\">\n",
      "            <button id=\"myBtn\">Contact Marketing Team</button>\n",
      "          </a>\n",
      "        </div>\n",
      "        <div class=\"contact\">\n",
      "          <a target=\"_blank\" href=\"mailto:Editorial@inshorts.com?subject=Inshorts%20website%20contact%20form\">\n",
      "            <button id=\"myBtn\">Contact Editorial Team</button>\n",
      "          </a>\n",
      "        </div>\n",
      "        <div class=\"contact\">\n",
      "          <a target=\"_blank\" href=\"mailto:Sales@inshorts.com?subject=Inshorts%20website%20contact%20form\">\n",
      "            <button id=\"myBtn\">Contact Sales Team</button>\n",
      "          </a>\n",
      "        </div>\n",
      "        <div class=\"contact\">\n",
      "          <a target=\"_blank\" href=\"mailto:Contact@inshorts.com?subject=Inshorts%20website%20contact%20form\">\n",
      "            <button id=\"myBtn\">Contact For Any Other Query</button>\n",
      "          </a>\n",
      "        </div>\n",
      "      </div>\n",
      "  </div>\n",
      "</footer>\n",
      "<script>\n",
      "var modal = document.getElementById('contactUsModal');\n",
      "\n",
      "// Get the button that opens the modal\n",
      "var btn = document.getElementById(\"contactUsBtn\");\n",
      "\n",
      "// Get the <span> element that closes the modal\n",
      "var span = document.getElementsByClassName(\"close\")[0];\n",
      "\n",
      "// When the user clicks on the button, open the modal \n",
      "btn.onclick = function() {\n",
      "    modal.style.display = \"block\";\n",
      "}\n",
      "\n",
      "// When the user clicks on <span> (x), close the modal\n",
      "span.onclick = function() {\n",
      "    modal.style.display = \"none\";\n",
      "}\n",
      "\n",
      "// When the user clicks anywhere outside of the modal, close it\n",
      "window.onclick = function(event) {\n",
      "    if (event.target == modal) {\n",
      "        modal.style.display = \"none\";\n",
      "    }\n",
      "}\n",
      "</script>\n",
      "\n",
      "\n",
      "  <!-- Eliminate render-blocking JavaScript and CSS in above-the-fold content -->\n",
      "  <script type=\"text/javascript\" src=\"https://cdnjs.cloudflare.com/ajax/libs/jquery/3.0.0-alpha1/jquery.min.js\"></script>\n",
      "  <script src=\"https://cdnjs.cloudflare.com/ajax/libs/materialize/0.97.0/js/materialize.min.js\"></script>\n",
      "  <script type=\"text/javascript\" src=\"/dist/scripts/index.js\"></script>\n",
      "  <script type=\"text/javascript\" src=\"/dist/scripts/read.js\"></script>\n",
      "  \n",
      "  <!-- Eliminate render-blocking JavaScript and CSS in above-the-fold content -->\n",
      "\n",
      "</body>\n",
      "</html>\n",
      "\n"
     ]
    }
   ],
   "source": [
    "print(response.text)"
   ]
  },
  {
   "cell_type": "code",
   "execution_count": 8,
   "metadata": {},
   "outputs": [],
   "source": [
    "soup = BeautifulSoup(response.content, 'html.parser')"
   ]
  },
  {
   "cell_type": "code",
   "execution_count": 9,
   "metadata": {
    "scrolled": false
   },
   "outputs": [
    {
     "data": {
      "text/plain": [
       "<div class=\"news-card-content news-right-box\">\n",
       "<div itemprop=\"articleBody\">As many as 2,608 new cases of coronavirus were recorded in Maharashtra today, taking the total number of cases in the state to 47,190. The death toll due to coronavirus in Maharashtra has surged to 1,577 after 60 new deaths were reported today. As many as 13,404 coronavirus patients have recovered in the state so far.</div>\n",
       "<div class=\"news-card-author-time news-card-author-time-in-content\">\n",
       "<a href=\"/prev/en/news/coronavirus-cases-in-maharashtra-cross-47000mark-death-toll-now-1577-1590255422901\"><span class=\"short\">short</span></a> by <span class=\"author\">Anmol Sharma</span> / \n",
       "      <span class=\"time\" content=\"2020-05-23T17:37:02.000Z\" itemprop=\"dateModified\">11:07 pm</span> on <span class=\"date\">23 May</span>\n",
       "</div>\n",
       "</div>"
      ]
     },
     "execution_count": 9,
     "metadata": {},
     "output_type": "execute_result"
    }
   ],
   "source": [
    "# see also `soup.find_all`\n",
    "#\n",
    "# beautiful soup uses `class_` as the keyword argument for searching\n",
    "# for a class because `class` is a reserved word in python\n",
    "# we'll use the class name that we identified from looking in the inspector in chrome\n",
    "article = soup.find('div', class_='news-card-content news-right-box')\n",
    "article"
   ]
  },
  {
   "cell_type": "code",
   "execution_count": 10,
   "metadata": {},
   "outputs": [],
   "source": [
    "import re\n",
    "import pandas as pd"
   ]
  },
  {
   "cell_type": "code",
   "execution_count": 11,
   "metadata": {
    "scrolled": false
   },
   "outputs": [
    {
     "data": {
      "text/plain": [
       "['',\n",
       " 'As many as 2,608 new cases of coronavirus were recorded in Maharashtra today, taking the total number of cases in the state to 47,190. The death toll due to coronavirus in Maharashtra has surged to 1,577 after 60 new deaths were reported today. As many as 13,404 coronavirus patients have recovered in the state so far.',\n",
       " '',\n",
       " '',\n",
       " 'short by Anmol Sharma / ',\n",
       " '',\n",
       " '      11:07 pm on 23 May',\n",
       " '',\n",
       " '',\n",
       " '']"
      ]
     },
     "execution_count": 11,
     "metadata": {},
     "output_type": "execute_result"
    }
   ],
   "source": [
    "re.findall(r\".*\", article.text)"
   ]
  },
  {
   "cell_type": "markdown",
   "metadata": {},
   "source": [
    "# Practice"
   ]
  },
  {
   "cell_type": "code",
   "execution_count": 12,
   "metadata": {
    "scrolled": true
   },
   "outputs": [],
   "source": [
    "# pd.Series(article.strip().split(\"\\n\"))"
   ]
  },
  {
   "cell_type": "code",
   "execution_count": 13,
   "metadata": {},
   "outputs": [],
   "source": [
    "state = \"North_Carolina\""
   ]
  },
  {
   "cell_type": "code",
   "execution_count": 14,
   "metadata": {},
   "outputs": [],
   "source": [
    "url = f\"https://en.wikipedia.org/wiki/COVID-19_pandemic_in_{state}\"\n",
    "response = get(url)\n",
    "\n",
    "soup = BeautifulSoup(response.content, 'html.parser')\n",
    "\n",
    "article = soup.find('table', class_ ='infobox')\n",
    "\n",
    "with open(\"Article.text\", \"w\") as f:\n",
    "    f.write(article.text)\n",
    "\n",
    "with open(\"Article.text\") as f:\n",
    "    article =  f.read()\n",
    "\n",
    "regex = r'''\n",
    "\\.*\n",
    "Confirmed\\scases(?P<confirmed_cases>\\d+,?\\d+)\n",
    "'''\n",
    "\n",
    "confirmed_cases = re.findall(regex, article, re.VERBOSE)\n",
    "\n",
    "regex = r'''\n",
    "\\.*\n",
    "Hospitalized\\scases(\\d+,?\\d+)\n",
    "'''\n",
    "\n",
    "hospitalized_cases = re.findall(regex, article, re.VERBOSE)\n",
    "\n",
    "regex = r'''\n",
    "\\.*\n",
    "Deaths(\\d+,?\\d+)\n",
    "'''\n",
    "\n",
    "deaths = re.findall(regex, article, re.VERBOSE)\n",
    "\n",
    "df = pd.DataFrame({\"confirmed_cases\": confirmed_cases, \"hispitalized_cases\": hospitalized_cases, \"deaths\": deaths})\n",
    "\n",
    "df = df.T.rename(columns=({0:\"cases\"}))\n",
    "\n",
    "df.cases = df.cases.str.replace(\",\",'').astype(\"int\")"
   ]
  },
  {
   "cell_type": "code",
   "execution_count": 15,
   "metadata": {},
   "outputs": [
    {
     "data": {
      "text/plain": [
       "Text(0.5, 1.0, 'COV-19 Cases in North_Carolina')"
      ]
     },
     "execution_count": 15,
     "metadata": {},
     "output_type": "execute_result"
    },
    {
     "data": {
      "image/png": "[encoded data removed]",
      "text/plain": [
       "<Figure size 1080x648 with 1 Axes>"
      ]
     },
     "metadata": {
      "needs_background": "light"
     },
     "output_type": "display_data"
    }
   ],
   "source": [
    "plt.figure(figsize=(15, 9))\n",
    "sns.barplot(data=df, x=df.index, y=\"cases\")\n",
    "plt.title(f\"COV-19 Cases in {state}\")"
   ]
  },
  {
   "cell_type": "code",
   "execution_count": 16,
   "metadata": {},
   "outputs": [
    {
     "data": {
      "text/html": [
       "<div>\n",
       "<style scoped>\n",
       "    .dataframe tbody tr th:only-of-type {\n",
       "        vertical-align: middle;\n",
       "    }\n",
       "\n",
       "    .dataframe tbody tr th {\n",
       "        vertical-align: top;\n",
       "    }\n",
       "\n",
       "    .dataframe thead th {\n",
       "        text-align: right;\n",
       "    }\n",
       "</style>\n",
       "<table border=\"1\" class=\"dataframe\">\n",
       "  <thead>\n",
       "    <tr style=\"text-align: right;\">\n",
       "      <th></th>\n",
       "      <th>cases</th>\n",
       "    </tr>\n",
       "  </thead>\n",
       "  <tbody>\n",
       "    <tr>\n",
       "      <th>confirmed_cases</th>\n",
       "      <td>20122</td>\n",
       "    </tr>\n",
       "    <tr>\n",
       "      <th>hispitalized_cases</th>\n",
       "      <td>554</td>\n",
       "    </tr>\n",
       "    <tr>\n",
       "      <th>deaths</th>\n",
       "      <td>726</td>\n",
       "    </tr>\n",
       "  </tbody>\n",
       "</table>\n",
       "</div>"
      ],
      "text/plain": [
       "                    cases\n",
       "confirmed_cases     20122\n",
       "hispitalized_cases    554\n",
       "deaths                726"
      ]
     },
     "execution_count": 16,
     "metadata": {},
     "output_type": "execute_result"
    }
   ],
   "source": [
    "df"
   ]
  },
  {
   "cell_type": "markdown",
   "metadata": {},
   "source": [
    "-------------------"
   ]
  },
  {
   "cell_type": "markdown",
   "metadata": {},
   "source": [
    "# Class Review\n",
    "\n",
    "## Agenda \n",
    "\n",
    "1. Ethics\n",
    "1. Sending Requests\n",
    "1. Parsing HTML with Beautiful Soup\n",
    "1. crash coruse in HTML / CSS\n",
    "1. Using the browser inspector to get a CSS selector "
   ]
  },
  {
   "cell_type": "code",
   "execution_count": 17,
   "metadata": {},
   "outputs": [],
   "source": [
    "url = \"https://finance.yahoo.com/quote/DIS/history?p=DIS\"\n",
    "response = get(url)\n",
    "soup = BeautifulSoup(response.content, 'html.parser')"
   ]
  },
  {
   "cell_type": "code",
   "execution_count": 25,
   "metadata": {
    "scrolled": false
   },
   "outputs": [],
   "source": [
    "table = soup.select(\"table\", class_=\"#Col1-1-HistoricalDataTable-Proxy > section > div.Pb\\(10px\\).Ovx\\(a\\).W\\(100\\%\\) > table\")"
   ]
  },
  {
   "cell_type": "code",
   "execution_count": 34,
   "metadata": {},
   "outputs": [
    {
     "data": {
      "text/plain": [
       "0    [[[<span data-reactid=\"35\">Date</span>], [<spa...\n",
       "1    [[[<span data-reactid=\"51\">May 28, 2020</span>...\n",
       "2    [[[<span data-reactid=\"1552\">*Close price adju...\n",
       "dtype: object"
      ]
     },
     "execution_count": 34,
     "metadata": {},
     "output_type": "execute_result"
    }
   ],
   "source": [
    "pd.Series(table[0])"
   ]
  }
 ],
 "metadata": {
  "kernelspec": {
   "display_name": "Python 3",
   "language": "python",
   "name": "python3"
  },
  "language_info": {
   "codemirror_mode": {
    "name": "ipython",
    "version": 3
   },
   "file_extension": ".py",
   "mimetype": "text/x-python",
   "name": "python",
   "nbconvert_exporter": "python",
   "pygments_lexer": "ipython3",
   "version": "3.7.4"
  }
 },
 "nbformat": 4,
 "nbformat_minor": 2
}
